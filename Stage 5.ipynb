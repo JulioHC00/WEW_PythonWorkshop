{
 "cells": [
  {
   "cell_type": "markdown",
   "metadata": {
    "id": "O7Hae280h3z7"
   },
   "source": [
    "# Stage 5: Speed of the CME\n",
    "\n",
    "1.   Calculate the speed of the CME using observations."
   ]
  },
  {
   "cell_type": "markdown",
   "metadata": {
    "id": "OuDeRSdA5m-m"
   },
   "source": [
    "Pick a coronagraph image where the CME bubble is clearly visible by selecting a frame nubmer in the box below. If you are happy with the image move on to the next cell. If not, run this cell again and pick another number."
   ]
  },
  {
   "cell_type": "code",
   "execution_count": null,
   "metadata": {
    "colab": {
     "base_uri": "https://localhost:8080/"
    },
    "id": "B6mX2sDGs2LC",
    "outputId": "123b3d1c-1cec-4671-9af9-9fdba1f3cc44"
   },
   "outputs": [],
   "source": [
    "!pip install plotly"
   ]
  },
  {
   "cell_type": "code",
   "execution_count": null,
   "metadata": {
    "colab": {
     "base_uri": "https://localhost:8080/",
     "height": 736
    },
    "id": "kDhq3S_TsqOi",
    "outputId": "36824fc8-dff1-43fe-d78f-effde35a5859"
   },
   "outputs": [],
   "source": [
    "import glob\n",
    "import cv2\n",
    "import numpy as np\n",
    "import plotly.express as px\n",
    "import plotly.graph_objects as go\n",
    "from os import path\n",
    "\n",
    "if path.exists('WEW_PythonWorkshop_Database/') == False: # You wouldn't need these lines if you're plotting a different date!\n",
    "    ! git clone https://github.com/andyto1234/WEW_PythonWorkshop_Database.git # We're downloading data from github so it's quicker!\n",
    "    \n",
    "\n",
    "#Fetch the coronagraph images\n",
    "map_list = []\n",
    "map_list = sorted(glob.glob('WEW_PythonWorkshop_Database/LASCO_images/*.png')) # This will give us a list of all the files we downloaded"
   ]
  },
  {
   "attachments": {},
   "cell_type": "markdown",
   "metadata": {},
   "source": [
    "Now, input here the index of your timestamp"
   ]
  },
  {
   "cell_type": "code",
   "execution_count": null,
   "metadata": {},
   "outputs": [],
   "source": [
    "filenumber = input('Image number: ')\n",
    "filename = map_list[int(filenumber)]\n",
    "\n",
    "#Read and plot the image file\n",
    "img = cv2.imread(filename)\n",
    "fig=px.imshow(cv2.cvtColor(img, cv2.COLOR_BGR2RGB), width=1000, height=600)\n",
    "fig.update_xaxes(visible=False)\n",
    "fig.update_yaxes(visible=False)\n",
    "fig.show()"
   ]
  },
  {
   "cell_type": "markdown",
   "metadata": {
    "id": "Qu_pfn7X5m-n"
   },
   "source": [
    "Now select two points on the image to calculate the distance the CME has travelled. First point should be at the center or surface of the Sun. Second point should be at the top of the CME bubble.\n"
   ]
  },
  {
   "cell_type": "code",
   "execution_count": null,
   "metadata": {
    "colab": {
     "base_uri": "https://localhost:8080/"
    },
    "id": "dXETT2taVEzo",
    "outputId": "f7543d52-91c2-4897-d8b3-7de295b07577"
   },
   "outputs": [],
   "source": [
    "coords= []\n",
    "x1 = input('CME source x coordinate: ')\n",
    "y1 = input('CME source y coordinate: ')\n",
    "coords.append([int(x1), int(y1)])\n",
    "\n",
    "x2 = input('CME front x coordinate: ')\n",
    "y2 = input('CME front y coordinate: ')\n",
    "coords.append([int(x2), int(y2)])\n",
    "\n",
    "dist = np.linalg.norm(np.array(coords[1])-np.array(coords[0]))*63303\n",
    "print('CME has travelled ', int(dist), ' km')"
   ]
  },
  {
   "cell_type": "markdown",
   "metadata": {
    "id": "I6yID_T_vA_E"
   },
   "source": [
    "Enter the time the CME is observed at its origin on the Sun and in the coronagraph."
   ]
  },
  {
   "cell_type": "code",
   "execution_count": null,
   "metadata": {
    "colab": {
     "base_uri": "https://localhost:8080/"
    },
    "id": "RqPdwtZ55m-o",
    "outputId": "54ece8a8-1de3-4963-d3ac-b39e6cba45e4"
   },
   "outputs": [],
   "source": [
    "t1 = input('Time plasma structure erupted on the Sun (hh:mm)')\n",
    "t2 = input('Time CME is spotted in the coronagraph (hh:mm)')\n",
    "\n",
    "t1_hour, t1_minute = [i for i in t1.split(\":\")]\n",
    "t1 = int(t1_hour)*60*60 + int(t1_minute)*60\n",
    "\n",
    "t2_hour, t2_minute = [i for i in t2.split(\":\")]\n",
    "t2 = int(t2_hour)*60*60 + int(t2_minute)*60"
   ]
  },
  {
   "cell_type": "markdown",
   "metadata": {
    "id": "OZeM2ERQ5m-p"
   },
   "source": [
    "Now calculate the speed."
   ]
  },
  {
   "cell_type": "code",
   "execution_count": null,
   "metadata": {
    "colab": {
     "base_uri": "https://localhost:8080/"
    },
    "id": "DslSpTKE5m-p",
    "outputId": "20512b49-4ff8-4127-dde7-8f4fa891b913"
   },
   "outputs": [],
   "source": [
    "v = dist/(t2-t1)\n",
    "print('CME speed is: ', int(v), ' km/s')"
   ]
  },
  {
   "cell_type": "markdown",
   "metadata": {
    "id": "91-uiXRPD6Ka"
   },
   "source": [
    "## How soon does it hit the Earth?\n",
    "\n",
    "When predicting space weather, it is essential to know the speed of a CME so that we can calculate how soon it would reach the Earth. Using the CME speed calculated becofe and knowing the distance between the Earth and the Sun, work out how much time it would take the CME to reach us.\n"
   ]
  },
  {
   "cell_type": "code",
   "execution_count": null,
   "metadata": {
    "id": "oe7kWRXu5m-p"
   },
   "outputs": [],
   "source": []
  }
 ],
 "metadata": {
  "colab": {
   "collapsed_sections": [],
   "name": "Stage 5.ipynb",
   "provenance": []
  },
  "kernelspec": {
   "display_name": "Python 3 (ipykernel)",
   "language": "python",
   "name": "python3"
  },
  "language_info": {
   "codemirror_mode": {
    "name": "ipython",
    "version": 3
   },
   "file_extension": ".py",
   "mimetype": "text/x-python",
   "name": "python",
   "nbconvert_exporter": "python",
   "pygments_lexer": "ipython3",
   "version": "3.9.12"
  }
 },
 "nbformat": 4,
 "nbformat_minor": 4
}
