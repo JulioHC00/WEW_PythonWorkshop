{
 "cells": [
  {
   "cell_type": "markdown",
   "metadata": {
    "colab_type": "text",
    "id": "O7Hae280h3z7"
   },
   "source": [
    "# Stage 5: Speed of the CME\n",
    "\n",
    "1.   Calculate the speed of the CME using observations."
   ]
  },
  {
   "cell_type": "markdown",
   "metadata": {},
   "source": [
    "Pick a coronagraph image where the CME bubble is clearly visible by selecting a frame nubmer in the box below. If you are happy with the image move on to the next cell. If not, run this cell again and pick another number."
   ]
  },
  {
   "cell_type": "code",
   "execution_count": 4,
   "metadata": {},
   "outputs": [
    {
     "name": "stdout",
     "output_type": "stream",
     "text": [
      "fatal: destination path 'WEW_PythonWorkshop_Database' already exists and is not an empty directory.\n"
     ]
    },
    {
     "name": "stdin",
     "output_type": "stream",
     "text": [
      "Image number:  \n"
     ]
    },
    {
     "ename": "ValueError",
     "evalue": "invalid literal for int() with base 10: ''",
     "output_type": "error",
     "traceback": [
      "\u001b[0;31m---------------------------------------------------------------------------\u001b[0m",
      "\u001b[0;31mValueError\u001b[0m                                Traceback (most recent call last)",
      "\u001b[0;32m<ipython-input-4-4f816f7e996a>\u001b[0m in \u001b[0;36m<module>\u001b[0;34m\u001b[0m\n\u001b[1;32m     10\u001b[0m \u001b[0;34m\u001b[0m\u001b[0m\n\u001b[1;32m     11\u001b[0m \u001b[0mfilenumber\u001b[0m \u001b[0;34m=\u001b[0m \u001b[0minput\u001b[0m\u001b[0;34m(\u001b[0m\u001b[0;34m'Image number: '\u001b[0m\u001b[0;34m)\u001b[0m\u001b[0;34m\u001b[0m\u001b[0;34m\u001b[0m\u001b[0m\n\u001b[0;32m---> 12\u001b[0;31m \u001b[0mfilename\u001b[0m \u001b[0;34m=\u001b[0m \u001b[0mmap_list\u001b[0m\u001b[0;34m[\u001b[0m\u001b[0mint\u001b[0m\u001b[0;34m(\u001b[0m\u001b[0mfilenumber\u001b[0m\u001b[0;34m)\u001b[0m\u001b[0;34m]\u001b[0m\u001b[0;34m\u001b[0m\u001b[0;34m\u001b[0m\u001b[0m\n\u001b[0m\u001b[1;32m     13\u001b[0m \u001b[0;34m\u001b[0m\u001b[0m\n\u001b[1;32m     14\u001b[0m \u001b[0;31m#Read the image file\u001b[0m\u001b[0;34m\u001b[0m\u001b[0;34m\u001b[0m\u001b[0;34m\u001b[0m\u001b[0m\n",
      "\u001b[0;31mValueError\u001b[0m: invalid literal for int() with base 10: ''"
     ]
    }
   ],
   "source": [
    "import glob\n",
    "import cv2\n",
    "import numpy as np\n",
    "import matplotlib.pyplot as plt\n",
    "! git clone https://github.com/andyto1234/WEW_PythonWorkshop_Database\n",
    "\n",
    "#Fetch the coronagraph images\n",
    "map_list = []\n",
    "map_list = sorted(glob.glob('WEW_PythonWorkshop_Database/LASCO_images/*.png'))\n",
    "\n",
    "filenumber = input('Image number: ')\n",
    "filename = map_list[int(filenumber)]\n",
    "\n",
    "#Read the image file\n",
    "img = cv2.imread(filename)\n",
    "#Set plot size\n",
    "fig=plt.figure(figsize=(13,13))\n",
    "#Plot image\n",
    "imgplot = plt.imshow(cv2.cvtColor(img, cv2.COLOR_BGR2RGB))"
   ]
  },
  {
   "cell_type": "markdown",
   "metadata": {},
   "source": [
    "Now select two points on the image to calculate the distance the CME has travelled. First point should be at the center or surface of the sun. Second point should be at the top of the CME bubble. After selecting these two points, click any key to close the image window."
   ]
  },
  {
   "cell_type": "code",
   "execution_count": 5,
   "metadata": {},
   "outputs": [],
   "source": [
    "%matplotlib tk"
   ]
  },
  {
   "cell_type": "code",
   "execution_count": null,
   "metadata": {},
   "outputs": [],
   "source": [
    "def click_event(event, x, y, flags, params):\n",
    "    if event == cv2.EVENT_LBUTTONDOWN:\n",
    "        coords.append([x,y]) \n",
    "        \n",
    "coords = []\n",
    "\n",
    "cv2.imshow('image', img)\n",
    "cv2.setMouseCallback('image', click_event)\n",
    "cv2.waitKey(0)\n",
    "cv2.destroyAllWindows()"
   ]
  },
  {
   "cell_type": "code",
   "execution_count": 6,
   "metadata": {},
   "outputs": [
    {
     "name": "stdout",
     "output_type": "stream",
     "text": [
      "CME has travelled  12025904  km\n"
     ]
    }
   ],
   "source": [
    "dist = np.linalg.norm(np.array(coords[1])-np.array(coords[0]))*63303\n",
    "print('CME has travelled ', int(dist), ' km')"
   ]
  },
  {
   "cell_type": "code",
   "execution_count": 20,
   "metadata": {},
   "outputs": [
    {
     "name": "stdout",
     "output_type": "stream",
     "text": [
      "Enter the time plasma structure erupted on the Sun (hh:mm)19:46\n",
      "Enter the time plasma structure erupted is spotted in the coronagraph (hh:mm)23:06\n"
     ]
    }
   ],
   "source": [
    "t1 = input('Enter the time plasma structure erupted on the Sun (hh:mm)')\n",
    "t2 = input('Enter the time plasma structure erupted is spotted in the coronagraph (hh:mm)')"
   ]
  },
  {
   "cell_type": "code",
   "execution_count": 22,
   "metadata": {},
   "outputs": [],
   "source": [
    "t1_hour, t1_minute = [i for i in t1.split(\":\")]\n",
    "t1 = int(t1_hour)*60*60 + int(t1_minute)*60\n",
    "\n",
    "t2_hour, t2_minute = [i for i in t2.split(\":\")]\n",
    "t2 = int(t2_hour)*60*60 + int(t2_minute)*60"
   ]
  },
  {
   "cell_type": "markdown",
   "metadata": {},
   "source": [
    "Now calculate the speed."
   ]
  },
  {
   "cell_type": "code",
   "execution_count": 26,
   "metadata": {},
   "outputs": [
    {
     "name": "stdout",
     "output_type": "stream",
     "text": [
      "CME speed is:  1002.1586680165098  km/s\n"
     ]
    }
   ],
   "source": [
    "v = dist/(t2-t1)\n",
    "print('CME speed is: ', v, ' km/s')"
   ]
  },
  {
   "cell_type": "markdown",
   "metadata": {
    "colab_type": "text",
    "id": "91-uiXRPD6Ka"
   },
   "source": [
    "## How soon does it hit the Earth\n",
    "\n",
    "A key reason for us to observe the Sun is for predicting space weather. We need to know when a CME is hitting the Earth.\n",
    "\n",
    "1.   Use the speed calculated to deduce the time plasma structures hit Earth."
   ]
  },
  {
   "cell_type": "code",
   "execution_count": null,
   "metadata": {},
   "outputs": [],
   "source": []
  }
 ],
 "metadata": {
  "colab": {
   "collapsed_sections": [],
   "include_colab_link": true,
   "name": "Stage 5.ipynb",
   "provenance": [],
   "version": "0.3.2"
  },
  "kernelspec": {
   "display_name": "Python 3",
   "language": "python",
   "name": "python3"
  },
  "language_info": {
   "codemirror_mode": {
    "name": "ipython",
    "version": 3
   },
   "file_extension": ".py",
   "mimetype": "text/x-python",
   "name": "python",
   "nbconvert_exporter": "python",
   "pygments_lexer": "ipython3",
   "version": "3.7.3"
  }
 },
 "nbformat": 4,
 "nbformat_minor": 4
}
