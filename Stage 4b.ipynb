{
 "cells": [
  {
   "cell_type": "markdown",
   "metadata": {
    "colab_type": "text",
    "id": "O7Hae280h3z7"
   },
   "source": [
    "# Stage 4b: The Sun (Coronagraph)\n",
    "\n",
    "A very important part of our Solar System is the Sun itself. It is for this reason that we, as its residents, have many observatories, both ground and space-based, that take measurements related to it and its influence.\n",
    "\n",
    "\n",
    "\n",
    "1.   Installing the relevant modules\n",
    "2.   Fetching Images from current spacecraft\n",
    "3.   Plotting them\n",
    "4.   Making a video in Python (intro)"
   ]
  },
  {
   "cell_type": "markdown",
   "metadata": {
    "colab_type": "text",
    "id": "Equdb67TlVjz"
   },
   "source": [
    "## Installing the relevant modules\n",
    "\n",
    "The first step here will be to get a module installed inside the jupyter notebook. To do that, just **run the following line the first time you open this notebook:**"
   ]
  },
  {
   "cell_type": "code",
   "execution_count": null,
   "metadata": {
    "colab": {},
    "colab_type": "code",
    "id": "Wxk8mQ5WmOm1"
   },
   "outputs": [],
   "source": [
    "!pip install -q sunpy[all] astropy  # This package is used for all things Sun-related, hosted in github: https://github.com/sunpy/sunpy\n"
   ]
  },
  {
   "cell_type": "markdown",
   "metadata": {
    "colab_type": "text",
    "id": "QOoNUhhWpJbu"
   },
   "source": [
    "**After the installation is finished, click on Runtime and Restart the Runtime with Control + M!**"
   ]
  },
  {
   "cell_type": "code",
   "execution_count": 1,
   "metadata": {
    "colab": {},
    "colab_type": "code",
    "id": "3tf_BVcOopfo"
   },
   "outputs": [
    {
     "name": "stdout",
     "output_type": "stream",
     "text": [
      "Results from 1 Provider:\n",
      "\n",
      "30 Results from the VSOClient:\n",
      "Source: http://vso.stanford.edu/cgi-bin/search\n",
      "\n",
      "       Start Time               End Time        Source Instrument Provider  Physobs  Extent Type   Size \n",
      "                                                                                                  Mibyte\n",
      "----------------------- ----------------------- ------ ---------- -------- --------- ----------- -------\n",
      "2012-08-31 18:06:06.000 2012-08-31 18:06:25.000   SOHO      LASCO     SDAC intensity      CORONA 2.01074\n",
      "2012-08-31 18:18:06.000 2012-08-31 18:18:25.000   SOHO      LASCO     SDAC intensity      CORONA 2.01074\n",
      "2012-08-31 18:30:05.000 2012-08-31 18:30:24.000   SOHO      LASCO     SDAC intensity      CORONA 2.01074\n",
      "2012-08-31 18:42:05.000 2012-08-31 18:42:24.000   SOHO      LASCO     SDAC intensity      CORONA 2.01074\n",
      "2012-08-31 18:54:05.000 2012-08-31 18:54:25.000   SOHO      LASCO     SDAC intensity      CORONA 2.01074\n",
      "2012-08-31 19:06:06.000 2012-08-31 19:06:25.000   SOHO      LASCO     SDAC intensity      CORONA 2.01074\n",
      "2012-08-31 19:18:05.000 2012-08-31 19:18:24.000   SOHO      LASCO     SDAC intensity      CORONA 2.01074\n",
      "2012-08-31 19:30:05.000 2012-08-31 19:30:24.000   SOHO      LASCO     SDAC intensity      CORONA 2.01074\n",
      "2012-08-31 19:42:06.000 2012-08-31 19:42:25.000   SOHO      LASCO     SDAC intensity      CORONA 2.01074\n",
      "2012-08-31 19:54:05.000 2012-08-31 19:54:24.000   SOHO      LASCO     SDAC intensity      CORONA 2.01074\n",
      "2012-08-31 20:06:05.000 2012-08-31 20:06:24.000   SOHO      LASCO     SDAC intensity      CORONA 2.01074\n",
      "2012-08-31 20:18:06.000 2012-08-31 20:18:25.000   SOHO      LASCO     SDAC intensity      CORONA 2.01074\n",
      "2012-08-31 20:30:06.000 2012-08-31 20:30:25.000   SOHO      LASCO     SDAC intensity      CORONA 2.01074\n",
      "2012-08-31 20:42:05.000 2012-08-31 20:42:24.000   SOHO      LASCO     SDAC intensity      CORONA 2.01074\n",
      "2012-08-31 21:18:05.000 2012-08-31 21:18:24.000   SOHO      LASCO     SDAC intensity      CORONA 2.01074\n",
      "2012-08-31 21:30:06.000 2012-08-31 21:30:25.000   SOHO      LASCO     SDAC intensity      CORONA 2.01074\n",
      "2012-08-31 21:42:05.000 2012-08-31 21:42:25.000   SOHO      LASCO     SDAC intensity      CORONA 2.01074\n",
      "2012-08-31 21:54:05.000 2012-08-31 21:54:24.000   SOHO      LASCO     SDAC intensity      CORONA 2.01074\n",
      "2012-08-31 22:06:05.000 2012-08-31 22:06:24.000   SOHO      LASCO     SDAC intensity      CORONA 2.01074\n",
      "2012-08-31 22:18:05.000 2012-08-31 22:18:24.000   SOHO      LASCO     SDAC intensity      CORONA 2.01074\n",
      "2012-08-31 22:30:06.000 2012-08-31 22:30:25.000   SOHO      LASCO     SDAC intensity      CORONA 2.01074\n",
      "2012-08-31 22:40:45.000 2012-08-31 22:45:46.000   SOHO      LASCO     SDAC intensity      CORONA 1.01074\n",
      "2012-08-31 22:47:59.000 2012-08-31 22:49:29.000   SOHO      LASCO     SDAC intensity      CORONA 1.01074\n",
      "2012-08-31 22:51:39.000 2012-08-31 22:56:39.000   SOHO      LASCO     SDAC intensity      CORONA 1.01074\n",
      "2012-08-31 22:58:49.000 2012-08-31 23:03:49.000   SOHO      LASCO     SDAC intensity      CORONA 1.01074\n",
      "2012-08-31 23:06:14.000 2012-08-31 23:06:33.000   SOHO      LASCO     SDAC intensity      CORONA 2.01074\n",
      "2012-08-31 23:18:05.000 2012-08-31 23:18:24.000   SOHO      LASCO     SDAC intensity      CORONA 2.01074\n",
      "2012-08-31 23:30:05.000 2012-08-31 23:30:24.000   SOHO      LASCO     SDAC intensity      CORONA 2.01074\n",
      "2012-08-31 23:42:06.000 2012-08-31 23:42:25.000   SOHO      LASCO     SDAC intensity      CORONA 2.01074\n",
      "2012-08-31 23:54:05.000 2012-08-31 23:54:24.000   SOHO      LASCO     SDAC intensity      CORONA 2.01074\n",
      "\n",
      "\n"
     ]
    }
   ],
   "source": [
    "from sunpy.net import Fido, attrs as a\n",
    "from astropy import units as u  \n",
    "\n",
    "from datetime import datetime   # Python's small Time module\n",
    "\n",
    "Inst = 'LASCO'  \n",
    "Detect = 'C3' # Here we will use the Atmospheric Imaging Assembly: aia\n",
    "# It is onboard the Solar Dynamics Observatory. \n",
    "#Provides us with images of the Sun almost 24-7!\n",
    "\n",
    "\n",
    "# Now choose the period we would like to get our data from. Please don't do too much at once!\n",
    "\n",
    "start_time = datetime(2012,8,31,18,0)  # Year,Month,Day,Hour,Minute\n",
    "end_time = datetime(2012,8,31,23,59)\n",
    "\n",
    "samplerate_hours = 6 * u.minute  # We need to give our images a cadence for collection. \n",
    "# Please keep in mind that aia takes an image in all of its wavelengths every 10 seconds or so.\n",
    "# Choose a cadence depending on what you want to bring out!\n",
    "\n",
    "  \n",
    "#fido = Fido.search(a.Time(start=start_time, end=end_time), a.Instrument(Inst), a.vso.Sample(samplerate_hours))\n",
    "\n",
    "fido = Fido.search(a.Time(start=start_time, end=end_time), a.Instrument(Inst), a. Detector(Detect), a.Sample(samplerate_hours))\n",
    "\n",
    "print(fido)"
   ]
  },
  {
   "cell_type": "markdown",
   "metadata": {
    "colab_type": "text",
    "id": "M_CXsY3fvd1T"
   },
   "source": [
    "Now, we should have a series of results showing above this text-box. These are available records that we may now download:"
   ]
  },
  {
   "cell_type": "code",
   "execution_count": null,
   "metadata": {
    "colab": {},
    "colab_type": "code",
    "id": "qZ8h8Vudvj5i"
   },
   "outputs": [],
   "source": [
    "from os import makedirs as newdir\n",
    "\n",
    "dir_images = 'LASCO_data'\n",
    "newdir(dir_images, exist_ok = True)\n",
    "\n",
    "Fido.fetch(fido, path = 'LASCO_data/')"
   ]
  },
  {
   "cell_type": "markdown",
   "metadata": {
    "colab_type": "text",
    "id": "wnMDCZrOq3Kq"
   },
   "source": [
    "##Looking at our newly acquired data\n",
    "\n",
    "Now we need to access this data. For this we may use sunpy:"
   ]
  },
  {
   "cell_type": "code",
   "execution_count": null,
   "metadata": {
    "colab": {},
    "colab_type": "code",
    "id": "Z5VouhM9xhkt"
   },
   "outputs": [],
   "source": [
    "import matplotlib.pyplot as plt\n",
    "import matplotlib.colors as colors\n",
    "import sunpy.map\n",
    "import glob  # To fetch all files from a directory\n",
    "\n",
    "map_list = sorted(glob.glob('LASCO_data/*.fts'))\n",
    "\n",
    "lasco_map = sunpy.map.Map(map_list[0])\n",
    "    \n",
    "fig = plt.figure(figsize=(10, 10))\n",
    "ax = fig.add_subplot(1, 1, 1, projection=lasco_map)\n",
    "lasco_map.plot(axes=ax, cmap = plt.get_cmap('soholasco3'))\n",
    "lasco_map.draw_limb()\n",
    "plt.show()"
   ]
  },
  {
   "cell_type": "code",
   "execution_count": null,
   "metadata": {},
   "outputs": [],
   "source": [
    "lasco_map #get the time of the map"
   ]
  },
  {
   "cell_type": "markdown",
   "metadata": {
    "colab_type": "text",
    "id": "bRy81ZCryzFB"
   },
   "source": [
    "As we have just seen, it is fairly straightforward to get images from a spacecraft into Python and show them, but what can we do once we have these images?"
   ]
  },
  {
   "cell_type": "markdown",
   "metadata": {
    "colab_type": "text",
    "id": "91-uiXRPD6Ka"
   },
   "source": [
    "## Making videos out of our material\n",
    "\n",
    "A first good use of these images is to study the dynamics of the solar atmosphere, known to affect spacecraft and the Earth's weather! To do that, we need to have a look at all of the images in rapid succession."
   ]
  },
  {
   "cell_type": "code",
   "execution_count": null,
   "metadata": {},
   "outputs": [],
   "source": [
    "!pip install -q opencv-python"
   ]
  },
  {
   "cell_type": "code",
   "execution_count": null,
   "metadata": {},
   "outputs": [],
   "source": [
    "import cv2 # Here, we import OpenCV, a powerful image and video processing tool\n",
    "from os import getcwd\n",
    "import glob\n",
    "from shutil import rmtree\n",
    "from os import makedirs as newdir\n",
    "from os import path\n",
    "\n",
    "if path.exists('WEW_PythonWorkshop_Database/'): # You wouldn't need these two lines if you're plotting a different date!\n",
    "    rmtree(path.join('WEW_PythonWorkshop_Database/'))\n",
    "\n",
    "! git clone https://github.com/andyto1234/WEW_PythonWorkshop_Database.git # We're downloading data from github so it's quicker!\n",
    "\n",
    "dir_png = 'WEW_PythonWorkshop_Database/LASCO_images'\n",
    "img_array = []\n",
    "\n",
    "for filename in sorted(glob.glob(f'{dir_png}/*.png')):\n",
    "    img = cv2.imread(filename)\n",
    "    height, width, layers = img.shape\n",
    "    size = (width,height)\n",
    "    img_array.append(img)\n",
    "\n",
    "out = cv2.VideoWriter('solar_vid_coronograph.mp4',cv2.VideoWriter_fourcc(*'mp4v'), 5, size)\n",
    "\n",
    "for i in range(len(img_array)):\n",
    "    out.write(img_array[i])\n",
    "\n",
    "out.release()"
   ]
  },
  {
   "cell_type": "markdown",
   "metadata": {
    "colab_type": "text",
    "id": "THcMDyc5lV_O"
   },
   "source": [
    "With the above, we will have created a movie called \"solar_vid_coronograph.mp4\", which holds all of our images together."
   ]
  }
 ],
 "metadata": {
  "colab": {
   "collapsed_sections": [],
   "include_colab_link": true,
   "name": "Stage 5.ipynb",
   "provenance": [],
   "version": "0.3.2"
  },
  "kernelspec": {
   "display_name": "Python 3 (ipykernel)",
   "language": "python",
   "name": "python3"
  },
  "language_info": {
   "codemirror_mode": {
    "name": "ipython",
    "version": 3
   },
   "file_extension": ".py",
   "mimetype": "text/x-python",
   "name": "python",
   "nbconvert_exporter": "python",
   "pygments_lexer": "ipython3",
   "version": "3.7.12"
  }
 },
 "nbformat": 4,
 "nbformat_minor": 4
}
