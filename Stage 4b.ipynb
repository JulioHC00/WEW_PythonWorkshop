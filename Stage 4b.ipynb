{
 "cells": [
  {
   "cell_type": "markdown",
   "metadata": {
    "colab_type": "text",
    "id": "O7Hae280h3z7"
   },
   "source": [
    "# Stage 4b: The Sun (Coronagraph)\n",
    "\n",
    "A very important part of our Solar System is the Sun itself. It is for this reason that we, as its residents, have many observatories, both ground and space-based, that take measurements related to it and its influence.\n",
    "\n",
    "\n",
    "\n",
    "1.   Installing the relevant modules\n",
    "2.   Fetching Images from current spacecraft\n",
    "3.   Plotting them\n",
    "4.   Making a video in Python (intro)"
   ]
  },
  {
   "cell_type": "markdown",
   "metadata": {
    "colab_type": "text",
    "id": "Equdb67TlVjz"
   },
   "source": [
    "## Installing the relevant modules\n",
    "\n",
    "The first step here will be to get a module installed inside the jupyter notebook. To do that, just **run the following line the first time you open this notebook:**"
   ]
  },
  {
   "cell_type": "code",
   "execution_count": null,
   "metadata": {
    "colab": {},
    "colab_type": "code",
    "id": "Wxk8mQ5WmOm1"
   },
   "outputs": [],
   "source": [
    "!pip install -q sunpy[all] astropy  # This package is used for all things Sun-related, hosted in github: https://github.com/sunpy/sunpy\n"
   ]
  },
  {
   "cell_type": "markdown",
   "metadata": {
    "colab_type": "text",
    "id": "QOoNUhhWpJbu"
   },
   "source": [
    "**After the installation is finished, click on Runtime and Restart the Runtime with Control + M!**"
   ]
  },
  {
   "cell_type": "code",
   "execution_count": 2,
   "metadata": {
    "colab": {},
    "colab_type": "code",
    "id": "3tf_BVcOopfo"
   },
   "outputs": [
    {
     "name": "stdout",
     "output_type": "stream",
     "text": [
      "Results from 1 Provider:\n",
      "\n",
      "30 Results from the VSOClient:\n",
      "Source: http://vso.stanford.edu/cgi-bin/search\n",
      "\n",
      "       Start Time               End Time        Source Instrument Provider  Physobs  Extent Type   Size \n",
      "                                                                                                  Mibyte\n",
      "----------------------- ----------------------- ------ ---------- -------- --------- ----------- -------\n",
      "2012-08-31 18:06:06.000 2012-08-31 18:06:25.000   SOHO      LASCO     SDAC intensity      CORONA 2.01074\n",
      "2012-08-31 18:18:06.000 2012-08-31 18:18:25.000   SOHO      LASCO     SDAC intensity      CORONA 2.01074\n",
      "2012-08-31 18:30:05.000 2012-08-31 18:30:24.000   SOHO      LASCO     SDAC intensity      CORONA 2.01074\n",
      "2012-08-31 18:42:05.000 2012-08-31 18:42:24.000   SOHO      LASCO     SDAC intensity      CORONA 2.01074\n",
      "2012-08-31 18:54:05.000 2012-08-31 18:54:25.000   SOHO      LASCO     SDAC intensity      CORONA 2.01074\n",
      "2012-08-31 19:06:06.000 2012-08-31 19:06:25.000   SOHO      LASCO     SDAC intensity      CORONA 2.01074\n",
      "2012-08-31 19:18:05.000 2012-08-31 19:18:24.000   SOHO      LASCO     SDAC intensity      CORONA 2.01074\n",
      "2012-08-31 19:30:05.000 2012-08-31 19:30:24.000   SOHO      LASCO     SDAC intensity      CORONA 2.01074\n",
      "2012-08-31 19:42:06.000 2012-08-31 19:42:25.000   SOHO      LASCO     SDAC intensity      CORONA 2.01074\n",
      "2012-08-31 19:54:05.000 2012-08-31 19:54:24.000   SOHO      LASCO     SDAC intensity      CORONA 2.01074\n",
      "2012-08-31 20:06:05.000 2012-08-31 20:06:24.000   SOHO      LASCO     SDAC intensity      CORONA 2.01074\n",
      "2012-08-31 20:18:06.000 2012-08-31 20:18:25.000   SOHO      LASCO     SDAC intensity      CORONA 2.01074\n",
      "2012-08-31 20:30:06.000 2012-08-31 20:30:25.000   SOHO      LASCO     SDAC intensity      CORONA 2.01074\n",
      "2012-08-31 20:42:05.000 2012-08-31 20:42:24.000   SOHO      LASCO     SDAC intensity      CORONA 2.01074\n",
      "2012-08-31 21:18:05.000 2012-08-31 21:18:24.000   SOHO      LASCO     SDAC intensity      CORONA 2.01074\n",
      "2012-08-31 21:30:06.000 2012-08-31 21:30:25.000   SOHO      LASCO     SDAC intensity      CORONA 2.01074\n",
      "2012-08-31 21:42:05.000 2012-08-31 21:42:25.000   SOHO      LASCO     SDAC intensity      CORONA 2.01074\n",
      "2012-08-31 21:54:05.000 2012-08-31 21:54:24.000   SOHO      LASCO     SDAC intensity      CORONA 2.01074\n",
      "2012-08-31 22:06:05.000 2012-08-31 22:06:24.000   SOHO      LASCO     SDAC intensity      CORONA 2.01074\n",
      "2012-08-31 22:18:05.000 2012-08-31 22:18:24.000   SOHO      LASCO     SDAC intensity      CORONA 2.01074\n",
      "2012-08-31 22:30:06.000 2012-08-31 22:30:25.000   SOHO      LASCO     SDAC intensity      CORONA 2.01074\n",
      "2012-08-31 22:40:45.000 2012-08-31 22:45:46.000   SOHO      LASCO     SDAC intensity      CORONA 1.01074\n",
      "2012-08-31 22:47:59.000 2012-08-31 22:49:29.000   SOHO      LASCO     SDAC intensity      CORONA 1.01074\n",
      "2012-08-31 22:51:39.000 2012-08-31 22:56:39.000   SOHO      LASCO     SDAC intensity      CORONA 1.01074\n",
      "2012-08-31 22:58:49.000 2012-08-31 23:03:49.000   SOHO      LASCO     SDAC intensity      CORONA 1.01074\n",
      "2012-08-31 23:06:14.000 2012-08-31 23:06:33.000   SOHO      LASCO     SDAC intensity      CORONA 2.01074\n",
      "2012-08-31 23:18:05.000 2012-08-31 23:18:24.000   SOHO      LASCO     SDAC intensity      CORONA 2.01074\n",
      "2012-08-31 23:30:05.000 2012-08-31 23:30:24.000   SOHO      LASCO     SDAC intensity      CORONA 2.01074\n",
      "2012-08-31 23:42:06.000 2012-08-31 23:42:25.000   SOHO      LASCO     SDAC intensity      CORONA 2.01074\n",
      "2012-08-31 23:54:05.000 2012-08-31 23:54:24.000   SOHO      LASCO     SDAC intensity      CORONA 2.01074\n",
      "\n",
      "\n"
     ]
    }
   ],
   "source": [
    "from sunpy.net import Fido, attrs as a\n",
    "from astropy import units as u  \n",
    "\n",
    "from datetime import datetime   # Python's small Time module\n",
    "\n",
    "Inst = 'LASCO'  \n",
    "Detect = 'C3' # Here we will use the Atmospheric Imaging Assembly: aia\n",
    "# It is onboard the Solar Dynamics Observatory. \n",
    "#Provides us with images of the Sun almost 24-7!\n",
    "\n",
    "\n",
    "# Now choose the period we would like to get our data from. Please don't do too much at once!\n",
    "\n",
    "start_time = datetime(2012,8,31,18,0)  # Year,Month,Day,Hour,Minute\n",
    "end_time = datetime(2012,8,31,23,59)\n",
    "\n",
    "samplerate_hours = 6 * u.minute  # We need to give our images a cadence for collection. \n",
    "# Please keep in mind that aia takes an image in all of its wavelengths every 10 seconds or so.\n",
    "# Choose a cadence depending on what you want to bring out!\n",
    "\n",
    "  \n",
    "#fido = Fido.search(a.Time(start=start_time, end=end_time), a.Instrument(Inst), a.vso.Sample(samplerate_hours))\n",
    "\n",
    "fido = Fido.search(a.Time(start=start_time, end=end_time), a.Instrument(Inst), a. Detector(Detect), a.Sample(samplerate_hours))\n",
    "\n",
    "print(fido)"
   ]
  },
  {
   "cell_type": "markdown",
   "metadata": {
    "colab_type": "text",
    "id": "M_CXsY3fvd1T"
   },
   "source": [
    "Now, we should have a series of results showing above this text-box. These are available records that we may now download:"
   ]
  },
  {
   "cell_type": "code",
   "execution_count": 3,
   "metadata": {
    "colab": {},
    "colab_type": "code",
    "id": "qZ8h8Vudvj5i"
   },
   "outputs": [
    {
     "data": {
      "application/vnd.jupyter.widget-view+json": {
       "model_id": "f5a6d5bed07d44b4be3431beef3226e0",
       "version_major": 2,
       "version_minor": 0
      },
      "text/plain": [
       "Files Downloaded:   0%|          | 0/30 [00:00<?, ?file/s]"
      ]
     },
     "metadata": {},
     "output_type": "display_data"
    },
    {
     "data": {
      "application/vnd.jupyter.widget-view+json": {
       "model_id": "312c70a89f264026b580713f1640e062",
       "version_major": 2,
       "version_minor": 0
      },
      "text/plain": [
       "32310943.fts:   0%|          | 0.00/2.11M [00:00<?, ?B/s]"
      ]
     },
     "metadata": {},
     "output_type": "display_data"
    },
    {
     "data": {
      "application/vnd.jupyter.widget-view+json": {
       "model_id": "3d46033fd5e54b4f9d524e257759d2f4",
       "version_major": 2,
       "version_minor": 0
      },
      "text/plain": [
       "32310944.fts:   0%|          | 0.00/2.11M [00:00<?, ?B/s]"
      ]
     },
     "metadata": {},
     "output_type": "display_data"
    },
    {
     "data": {
      "application/vnd.jupyter.widget-view+json": {
       "model_id": "30dc0276a9d34c2f86748daf0278be3b",
       "version_major": 2,
       "version_minor": 0
      },
      "text/plain": [
       "32310941.fts:   0%|          | 0.00/2.11M [00:00<?, ?B/s]"
      ]
     },
     "metadata": {},
     "output_type": "display_data"
    },
    {
     "data": {
      "application/vnd.jupyter.widget-view+json": {
       "model_id": "88bac4b1118c48de86184aa4290bdd50",
       "version_major": 2,
       "version_minor": 0
      },
      "text/plain": [
       "32310942.fts:   0%|          | 0.00/2.11M [00:00<?, ?B/s]"
      ]
     },
     "metadata": {},
     "output_type": "display_data"
    },
    {
     "data": {
      "application/vnd.jupyter.widget-view+json": {
       "model_id": "827a6fc8d4bf4b5890bdc59369cdef3c",
       "version_major": 2,
       "version_minor": 0
      },
      "text/plain": [
       "32310945.fts:   0%|          | 0.00/2.11M [00:00<?, ?B/s]"
      ]
     },
     "metadata": {},
     "output_type": "display_data"
    },
    {
     "data": {
      "application/vnd.jupyter.widget-view+json": {
       "model_id": "d632a3c2c7e843b78893d5a0cd2924c0",
       "version_major": 2,
       "version_minor": 0
      },
      "text/plain": [
       "32310946.fts:   0%|          | 0.00/2.11M [00:00<?, ?B/s]"
      ]
     },
     "metadata": {},
     "output_type": "display_data"
    },
    {
     "data": {
      "application/vnd.jupyter.widget-view+json": {
       "model_id": "ee0bac0ba2a24626966efd5b25fc3e45",
       "version_major": 2,
       "version_minor": 0
      },
      "text/plain": [
       "32310950.fts:   0%|          | 0.00/2.11M [00:00<?, ?B/s]"
      ]
     },
     "metadata": {},
     "output_type": "display_data"
    },
    {
     "data": {
      "application/vnd.jupyter.widget-view+json": {
       "model_id": "a3a288c7f02e4c21a2cdc93db0ab50f8",
       "version_major": 2,
       "version_minor": 0
      },
      "text/plain": [
       "32310948.fts:   0%|          | 0.00/2.11M [00:00<?, ?B/s]"
      ]
     },
     "metadata": {},
     "output_type": "display_data"
    },
    {
     "data": {
      "application/vnd.jupyter.widget-view+json": {
       "model_id": "59a4064f6c954a86bd0cc2b59e603fed",
       "version_major": 2,
       "version_minor": 0
      },
      "text/plain": [
       "32310947.fts:   0%|          | 0.00/2.11M [00:00<?, ?B/s]"
      ]
     },
     "metadata": {},
     "output_type": "display_data"
    },
    {
     "data": {
      "application/vnd.jupyter.widget-view+json": {
       "model_id": "eedaebbd3f444320bb4bbfbfd68ffa19",
       "version_major": 2,
       "version_minor": 0
      },
      "text/plain": [
       "32310949.fts:   0%|          | 0.00/2.11M [00:00<?, ?B/s]"
      ]
     },
     "metadata": {},
     "output_type": "display_data"
    },
    {
     "data": {
      "application/vnd.jupyter.widget-view+json": {
       "model_id": "4204f73198f84f969cb4600759e13c87",
       "version_major": 2,
       "version_minor": 0
      },
      "text/plain": [
       "32310951.fts:   0%|          | 0.00/2.11M [00:00<?, ?B/s]"
      ]
     },
     "metadata": {},
     "output_type": "display_data"
    },
    {
     "data": {
      "application/vnd.jupyter.widget-view+json": {
       "model_id": "b59ebf17ffde44098e6aa560960dc703",
       "version_major": 2,
       "version_minor": 0
      },
      "text/plain": [
       "32310952.fts:   0%|          | 0.00/2.11M [00:00<?, ?B/s]"
      ]
     },
     "metadata": {},
     "output_type": "display_data"
    },
    {
     "data": {
      "application/vnd.jupyter.widget-view+json": {
       "model_id": "269d0f1822744f738ef3eb14daf87cb7",
       "version_major": 2,
       "version_minor": 0
      },
      "text/plain": [
       "32310953.fts:   0%|          | 0.00/2.11M [00:00<?, ?B/s]"
      ]
     },
     "metadata": {},
     "output_type": "display_data"
    },
    {
     "data": {
      "application/vnd.jupyter.widget-view+json": {
       "model_id": "926ee976d24048cc93e50e073838126a",
       "version_major": 2,
       "version_minor": 0
      },
      "text/plain": [
       "32310954.fts:   0%|          | 0.00/2.11M [00:00<?, ?B/s]"
      ]
     },
     "metadata": {},
     "output_type": "display_data"
    },
    {
     "data": {
      "application/vnd.jupyter.widget-view+json": {
       "model_id": "efb768c3983a4bfeac5aa06163b79f26",
       "version_major": 2,
       "version_minor": 0
      },
      "text/plain": [
       "32310955.fts:   0%|          | 0.00/2.11M [00:00<?, ?B/s]"
      ]
     },
     "metadata": {},
     "output_type": "display_data"
    },
    {
     "data": {
      "application/vnd.jupyter.widget-view+json": {
       "model_id": "cc25fb65dfb34d168f0f4f4f9fc3dabb",
       "version_major": 2,
       "version_minor": 0
      },
      "text/plain": [
       "32310956.fts:   0%|          | 0.00/2.11M [00:00<?, ?B/s]"
      ]
     },
     "metadata": {},
     "output_type": "display_data"
    },
    {
     "data": {
      "application/vnd.jupyter.widget-view+json": {
       "model_id": "3c532159429045dbb5efafc5778d1355",
       "version_major": 2,
       "version_minor": 0
      },
      "text/plain": [
       "32310958.fts:   0%|          | 0.00/2.11M [00:00<?, ?B/s]"
      ]
     },
     "metadata": {},
     "output_type": "display_data"
    },
    {
     "data": {
      "application/vnd.jupyter.widget-view+json": {
       "model_id": "794891609bd544af8feacc252342cd90",
       "version_major": 2,
       "version_minor": 0
      },
      "text/plain": [
       "32310957.fts:   0%|          | 0.00/2.11M [00:00<?, ?B/s]"
      ]
     },
     "metadata": {},
     "output_type": "display_data"
    },
    {
     "data": {
      "application/vnd.jupyter.widget-view+json": {
       "model_id": "91512a0225b4449b87f0388841297620",
       "version_major": 2,
       "version_minor": 0
      },
      "text/plain": [
       "32310959.fts:   0%|          | 0.00/2.11M [00:00<?, ?B/s]"
      ]
     },
     "metadata": {},
     "output_type": "display_data"
    },
    {
     "data": {
      "application/vnd.jupyter.widget-view+json": {
       "model_id": "245183a53ffe4d409d709a1b60a989f3",
       "version_major": 2,
       "version_minor": 0
      },
      "text/plain": [
       "32310963.fts:   0%|          | 0.00/1.06M [00:00<?, ?B/s]"
      ]
     },
     "metadata": {},
     "output_type": "display_data"
    },
    {
     "data": {
      "application/vnd.jupyter.widget-view+json": {
       "model_id": "1897e25fd1fc407293c62a68b7511675",
       "version_major": 2,
       "version_minor": 0
      },
      "text/plain": [
       "32310962.fts:   0%|          | 0.00/1.06M [00:00<?, ?B/s]"
      ]
     },
     "metadata": {},
     "output_type": "display_data"
    },
    {
     "data": {
      "application/vnd.jupyter.widget-view+json": {
       "model_id": "a1372ead7a5a4fed9b1424769ed71de8",
       "version_major": 2,
       "version_minor": 0
      },
      "text/plain": [
       "32310960.fts:   0%|          | 0.00/2.11M [00:00<?, ?B/s]"
      ]
     },
     "metadata": {},
     "output_type": "display_data"
    },
    {
     "data": {
      "application/vnd.jupyter.widget-view+json": {
       "model_id": "791ecca4c4e144e7b4b371331ff092c1",
       "version_major": 2,
       "version_minor": 0
      },
      "text/plain": [
       "32310961.fts:   0%|          | 0.00/2.11M [00:00<?, ?B/s]"
      ]
     },
     "metadata": {},
     "output_type": "display_data"
    },
    {
     "data": {
      "application/vnd.jupyter.widget-view+json": {
       "model_id": "ddb3e027de3f49818bc98082ddf1ae92",
       "version_major": 2,
       "version_minor": 0
      },
      "text/plain": [
       "32310964.fts:   0%|          | 0.00/1.06M [00:00<?, ?B/s]"
      ]
     },
     "metadata": {},
     "output_type": "display_data"
    },
    {
     "data": {
      "application/vnd.jupyter.widget-view+json": {
       "model_id": "474f1887e04a4c08806839cd9f9262aa",
       "version_major": 2,
       "version_minor": 0
      },
      "text/plain": [
       "32310965.fts:   0%|          | 0.00/1.06M [00:00<?, ?B/s]"
      ]
     },
     "metadata": {},
     "output_type": "display_data"
    },
    {
     "data": {
      "application/vnd.jupyter.widget-view+json": {
       "model_id": "21d6359f96594d4ca6b9e510c871ac6f",
       "version_major": 2,
       "version_minor": 0
      },
      "text/plain": [
       "32310966.fts:   0%|          | 0.00/2.11M [00:00<?, ?B/s]"
      ]
     },
     "metadata": {},
     "output_type": "display_data"
    },
    {
     "data": {
      "application/vnd.jupyter.widget-view+json": {
       "model_id": "a1c9a49eb657495bbbca927db1ed1c71",
       "version_major": 2,
       "version_minor": 0
      },
      "text/plain": [
       "32310967.fts:   0%|          | 0.00/2.11M [00:00<?, ?B/s]"
      ]
     },
     "metadata": {},
     "output_type": "display_data"
    },
    {
     "data": {
      "application/vnd.jupyter.widget-view+json": {
       "model_id": "9df0e11ec3de4d4aa30141e89198111c",
       "version_major": 2,
       "version_minor": 0
      },
      "text/plain": [
       "32310968.fts:   0%|          | 0.00/2.11M [00:00<?, ?B/s]"
      ]
     },
     "metadata": {},
     "output_type": "display_data"
    },
    {
     "data": {
      "application/vnd.jupyter.widget-view+json": {
       "model_id": "a7e1a5233ca14af7819469957badbd47",
       "version_major": 2,
       "version_minor": 0
      },
      "text/plain": [
       "32310969.fts:   0%|          | 0.00/2.11M [00:00<?, ?B/s]"
      ]
     },
     "metadata": {},
     "output_type": "display_data"
    },
    {
     "data": {
      "application/vnd.jupyter.widget-view+json": {
       "model_id": "9605ea15bc9b42d092546ba55f4dd9b7",
       "version_major": 2,
       "version_minor": 0
      },
      "text/plain": [
       "32310970.fts:   0%|          | 0.00/2.11M [00:00<?, ?B/s]"
      ]
     },
     "metadata": {},
     "output_type": "display_data"
    },
    {
     "data": {
      "text/plain": [
       "<parfive.results.Results object at 0x7ff44744aed0>\n",
       "['LASCO_data/32310946.fts', 'LASCO_data/32310951.fts', 'LASCO_data/32310965.fts', 'LASCO_data/32310956.fts', 'LASCO_data/32310942.fts', 'LASCO_data/32310948.fts', 'LASCO_data/32310960.fts', 'LASCO_data/32310968.fts', 'LASCO_data/32310945.fts', 'LASCO_data/32310949.fts', 'LASCO_data/32310950.fts', 'LASCO_data/32310966.fts', 'LASCO_data/32310963.fts', 'LASCO_data/32310958.fts', 'LASCO_data/32310962.fts', 'LASCO_data/32310959.fts', 'LASCO_data/32310953.fts', 'LASCO_data/32310943.fts', 'LASCO_data/32310964.fts', 'LASCO_data/32310969.fts', 'LASCO_data/32310970.fts', 'LASCO_data/32310947.fts', 'LASCO_data/32310954.fts', 'LASCO_data/32310967.fts', 'LASCO_data/32310961.fts', 'LASCO_data/32310941.fts', 'LASCO_data/32310955.fts', 'LASCO_data/32310944.fts', 'LASCO_data/32310952.fts']\n",
       "Errors:\n",
       "(error(filepath_partial=functools.partial(<function VSOClient.mk_filename at 0x7ff44627a170>, 'LASCO_data/{file}', <QueryResponseRow index=16>\n",
       "       Start Time               End Time        Source Instrument Provider  Physobs  Extent Type   Size                                    fileid                                  \n",
       "                                                                                                  Mibyte                                                                           \n",
       "         object                  object          str4     str5      str4      str9       str6    float64                                   str74                                   \n",
       "----------------------- ----------------------- ------ ---------- -------- --------- ----------- ------- --------------------------------------------------------------------------\n",
       "2012-08-31 21:42:05.000 2012-08-31 21:42:25.000   SOHO      LASCO     SDAC intensity      CORONA 2.01074 /archive/soho/private/data/processed/lasco/level_05/120831/c3/32310957.fts), url='https://seal.nascom.nasa.gov//archive/soho/private/data/processed/lasco/level_05/120831/c3/32310957.fts', exception=ServerDisconnectedError('Server disconnected')))"
      ]
     },
     "execution_count": 3,
     "metadata": {},
     "output_type": "execute_result"
    }
   ],
   "source": [
    "from os import makedirs as newdir\n",
    "\n",
    "dir_images = 'LASCO_data'\n",
    "newdir(dir_images, exist_ok = True)\n",
    "\n",
    "Fido.fetch(fido, path = 'LASCO_data/')"
   ]
  },
  {
   "cell_type": "markdown",
   "metadata": {
    "colab_type": "text",
    "id": "wnMDCZrOq3Kq"
   },
   "source": [
    "##Looking at our newly acquired data\n",
    "\n",
    "Now we need to access this data. For this we may use sunpy:"
   ]
  },
  {
   "cell_type": "code",
   "execution_count": null,
   "metadata": {
    "colab": {},
    "colab_type": "code",
    "id": "Z5VouhM9xhkt"
   },
   "outputs": [],
   "source": [
    "import matplotlib.pyplot as plt\n",
    "import matplotlib.colors as colors\n",
    "import sunpy.map\n",
    "import glob  # To fetch all files from a directory\n",
    "\n",
    "map_list = sorted(glob.glob('LASCO_data/*.fts'))\n",
    "\n",
    "lasco_map = sunpy.map.Map(map_list[0])\n",
    "    \n",
    "fig = plt.figure(figsize=(10, 10))\n",
    "ax = fig.add_subplot(1, 1, 1, projection=lasco_map)\n",
    "lasco_map.plot(axes=ax, cmap = plt.get_cmap('soholasco3'))\n",
    "lasco_map.draw_limb()\n",
    "plt.show()"
   ]
  },
  {
   "cell_type": "code",
   "execution_count": null,
   "metadata": {},
   "outputs": [],
   "source": [
    "lasco_map #get the time of the map"
   ]
  },
  {
   "cell_type": "markdown",
   "metadata": {
    "colab_type": "text",
    "id": "bRy81ZCryzFB"
   },
   "source": [
    "As we have just seen, it is fairly straightforward to get images from a spacecraft into Python and show them, but what can we do once we have these images?"
   ]
  },
  {
   "cell_type": "markdown",
   "metadata": {
    "colab_type": "text",
    "id": "91-uiXRPD6Ka"
   },
   "source": [
    "## Making videos out of our material\n",
    "\n",
    "A first good use of these images is to study the dynamics of the solar atmosphere, known to affect spacecraft and the Earth's weather! To do that, we need to have a look at all of the images in rapid succession."
   ]
  },
  {
   "cell_type": "code",
   "execution_count": null,
   "metadata": {},
   "outputs": [],
   "source": [
    "!pip install -q opencv-python"
   ]
  },
  {
   "cell_type": "code",
   "execution_count": null,
   "metadata": {},
   "outputs": [],
   "source": [
    "import cv2 # Here, we import OpenCV, a powerful image and video processing tool\n",
    "from os import getcwd\n",
    "import glob\n",
    "from shutil import rmtree\n",
    "from os import makedirs as newdir\n",
    "from os import path\n",
    "\n",
    "if path.exists('WEW_PythonWorkshop_Database/'): # You wouldn't need these two lines if you're plotting a different date!\n",
    "    rmtree(path.join('WEW_PythonWorkshop_Database/'))\n",
    "\n",
    "! git clone https://github.com/andyto1234/WEW_PythonWorkshop_Database.git # We're downloading data from github so it's quicker!\n",
    "\n",
    "dir_png = 'WEW_PythonWorkshop_Database/LASCO_images'\n",
    "img_array = []\n",
    "\n",
    "for filename in sorted(glob.glob(f'{dir_png}/*.png')):\n",
    "    img = cv2.imread(filename)\n",
    "    height, width, layers = img.shape\n",
    "    size = (width,height)\n",
    "    img_array.append(img)\n",
    "\n",
    "out = cv2.VideoWriter('solar_vid_coronograph.mp4',cv2.VideoWriter_fourcc(*'mp4v'), 5, size)\n",
    "\n",
    "for i in range(len(img_array)):\n",
    "    out.write(img_array[i])\n",
    "\n",
    "out.release()"
   ]
  },
  {
   "cell_type": "markdown",
   "metadata": {
    "colab_type": "text",
    "id": "THcMDyc5lV_O"
   },
   "source": [
    "With the above, we will have created a movie called \"solar_vid_coronograph.mp4\", which holds all of our images together."
   ]
  }
 ],
 "metadata": {
  "colab": {
   "collapsed_sections": [],
   "include_colab_link": true,
   "name": "Stage 5.ipynb",
   "provenance": [],
   "version": "0.3.2"
  },
  "kernelspec": {
   "display_name": "Python 3 (ipykernel)",
   "language": "python",
   "name": "python3"
  },
  "language_info": {
   "codemirror_mode": {
    "name": "ipython",
    "version": 3
   },
   "file_extension": ".py",
   "mimetype": "text/x-python",
   "name": "python",
   "nbconvert_exporter": "python",
   "pygments_lexer": "ipython3",
   "version": "3.7.12"
  }
 },
 "nbformat": 4,
 "nbformat_minor": 4
}
