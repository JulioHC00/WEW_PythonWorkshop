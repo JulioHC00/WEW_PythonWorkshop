{
  "cells": [
    {
      "cell_type": "markdown",
      "metadata": {
        "id": "O7Hae280h3z7"
      },
      "source": [
        "# Stage 4a: The Sun (Coronal Imaging)\n",
        "\n",
        "A very important part of our Solar System is the Sun itself. It is for this reason that we, as its residents, have many observatories, both ground and space-based, that take measurements related to it and its influence.\n",
        "\n",
        "\n",
        "\n",
        "1.   Installing the relevant modules\n",
        "2.   Fetching Images from current spacecraft\n",
        "3.   Plotting them\n",
        "4.   Making a video in Python (intro)"
      ]
    },
    {
      "cell_type": "markdown",
      "metadata": {
        "id": "Equdb67TlVjz"
      },
      "source": [
        "## Installing the relevant modules\n",
        "\n",
        "The first step here will be to get a module installed inside the jupyter notebook. To do that, just **run the following line the first time you open this notebook:**"
      ]
    },
    {
      "cell_type": "code",
      "execution_count": null,
      "metadata": {
        "colab": {
          "base_uri": "https://localhost:8080/"
        },
        "id": "Wxk8mQ5WmOm1",
        "outputId": "2a2740ad-6a92-4f71-90c4-2478cbc0c3b8"
      },
      "outputs": [],
      "source": [
        "!pip install -q sunpy[all]  # This package is used for all things Sun-related, hosted in github: https://github.com/sunpy/sunpy\n"
      ]
    },
    {
      "cell_type": "markdown",
      "metadata": {
        "id": "QOoNUhhWpJbu"
      },
      "source": [
        "**After the installation is finished, click on Runtime and Restart the Runtime with Control + M!**"
      ]
    },
    {
      "cell_type": "code",
      "execution_count": null,
      "metadata": {
        "colab": {
          "base_uri": "https://localhost:8080/"
        },
        "id": "3tf_BVcOopfo",
        "outputId": "a89f7443-4079-4332-a628-a830214d31f6"
      },
      "outputs": [],
      "source": [
        "from sunpy.net import Fido, attrs as a\n",
        "from astropy import units as u\n",
        "\n",
        "from datetime import datetime   # Python's small Time module\n",
        "\n",
        "valid_wavelengths = [94, 131, 171, 193, 211, 304, 335, 1600, 1700]  # Note that 16/1700 are white light and not as useful here!\n",
        "\n",
        "\n",
        "Inst = 'aia'  # Here we will use the Atmospheric Imaging Assembly: aia\n",
        "# It is onboard the Solar Dynamics Observatory.\n",
        "#Provides us with images of the Sun almost 24-7!\n",
        "\n",
        "\n",
        "# Now choose the period we would like to get our data from. Please don't do too much at once!\n",
        "\n",
        "start_time = datetime(2012,8,31,18,0)  # Year,Month,Day,Hour,Minute\n",
        "end_time = datetime(2012,8,31,23,59)\n",
        "\n",
        "time_range = a.Time(start_time, end=end_time)\n",
        "\n",
        "lambda_ang = valid_wavelengths[2] * u.Angstrom  # Choose the 171 Angstrom wavelength as an example (Extreme Ultraviolet)\n",
        "\n",
        "\n",
        "samplerate_hours = 6 * u.minute  # We need to give our images a cadence for collection.\n",
        "# Please keep in mind that aia takes an image in all of its wavelengths every 12 seconds.\n",
        "# Choose a cadence depending on what you want to bring out!\n",
        "\n",
        "aia_query = time_range & a.Instrument.aia & a.Wavelength(lambda_ang) & a.Sample(samplerate_hours)\n",
        "\n",
        "fido = Fido.search(aia_query)\n",
        "\n",
        "print(fido)"
      ]
    },
    {
      "cell_type": "markdown",
      "metadata": {
        "id": "M_CXsY3fvd1T"
      },
      "source": [
        "Now, we should have a series of results showing above this text-box. These are available records that we may now download:"
      ]
    },
    {
      "cell_type": "code",
      "execution_count": null,
      "metadata": {
        "colab": {
          "base_uri": "https://localhost:8080/",
          "height": 1000,
          "referenced_widgets": [
            "2d49dcafeaa74696a1ec0801148c5ac4",
            "8f9063d9c89243d8809cc793076584ab",
            "486e4b88ffcd4e10b2ce0b62ff9ef1cf",
            "9daf2d0fe55143b98b5d42e5312438e0",
            "4775ae1731984ae0a105a438dbc62555",
            "0c12b0334e5c44d0afa9f70c81e0b1f7",
            "f646137d976c4bb29bafff663d152ef9",
            "bd626c4acbef43389475417046344dde",
            "0bf6061e44134940ac482c9da3d370b2",
            "e51f182d99e84f28965f4f208348bc1f",
            "e4cf6e2607ec49479747f079f3a0331d"
          ]
        },
        "id": "qZ8h8Vudvj5i",
        "outputId": "faae1ad8-ff5d-40b2-cbe5-e06718717534"
      },
      "outputs": [],
      "source": [
        "from shutil import rmtree\n",
        "from os import makedirs as newdir\n",
        "from os import path\n",
        "\n",
        "if path.exists('WEW_PythonWorkshop_Database/'): # You wouldn't need these two lines if you're plotting a different date!\n",
        "    rmtree(path.join('WEW_PythonWorkshop_Database/'))\n",
        "\n",
        "! git clone https://github.com/andyto1234/WEW_PythonWorkshop_Database.git # We're downloading data from github so it's quicker!\n",
        "\n",
        "dir_images = 'WEW_PythonWorkshop_Database/My_folder'\n",
        "newdir(dir_images, exist_ok = True)\n",
        "\n",
        "Fido.fetch(fido, path = 'WEW_PythonWorkshop_Database/My_folder/')"
      ]
    },
    {
      "cell_type": "markdown",
      "metadata": {
        "id": "wnMDCZrOq3Kq",
        "tags": []
      },
      "source": [
        "## Looking at our newly acquired data\n",
        "\n",
        "Now we need to access this data. For this we may use sunpy:"
      ]
    },
    {
      "cell_type": "code",
      "execution_count": null,
      "metadata": {
        "colab": {
          "base_uri": "https://localhost:8080/",
          "height": 1000
        },
        "id": "Z5VouhM9xhkt",
        "outputId": "d3f8755d-1f05-47f7-d956-d4a920ef2ea7"
      },
      "outputs": [],
      "source": [
        "import matplotlib.pyplot as plt\n",
        "import sunpy.map\n",
        "import glob  # To fetch all files from a directory\n",
        "\n",
        "\n",
        "map_list = sorted(glob.glob('WEW_PythonWorkshop_Database/My_folder/*.fits'))\n",
        "\n",
        "for picture in map_list[0:3]:\n",
        "\n",
        "  aia_map = sunpy.map.Map(picture)\n",
        "  aia_map.peek()\n",
        "\n",
        "input('Happy with the results? Press enter again in this box to save all of the figures as png images')\n",
        "\n",
        "\n",
        "dir_png = 'My_pics'\n",
        "newdir(dir_png, exist_ok = True)\n",
        "\n",
        "for index, picture in enumerate(map_list):\n",
        "  aia_map = sunpy.map.Map(picture)\n",
        "  aia_map.plot()\n",
        "  plt.savefig(f'{dir_png}/{index:03d}.png', dpi=150)\n",
        "  plt.clf()\n",
        "\n",
        "  print(f'Saved figure {index}')\n"
      ]
    },
    {
      "cell_type": "markdown",
      "metadata": {
        "id": "bRy81ZCryzFB"
      },
      "source": [
        "As we have just seen, it is fairly straightforward to get images from a spacecraft into Python and show them, but what can we do once we have these images?"
      ]
    },
    {
      "cell_type": "markdown",
      "metadata": {
        "id": "91-uiXRPD6Ka"
      },
      "source": [
        "## Making videos out of our material\n",
        "\n",
        "A first good use of these images is to study the dynamics of the solar atmosphere, known to affect spacecraft and the Earth's weather! To do that, we need to have a look at all of the images in rapid succession."
      ]
    },
    {
      "cell_type": "code",
      "execution_count": null,
      "metadata": {
        "id": "GcGkwXdjsZNe"
      },
      "outputs": [],
      "source": [
        "import cv2  # Here, we import OpenCV, a powerful image and video processing tool\n",
        "from os import getcwd\n",
        "\n",
        "\n",
        "img_array = []\n",
        "\n",
        "for filename in sorted(glob.glob(f'{dir_png}/*.png')):\n",
        "  img = cv2.imread(filename)\n",
        "  height, width, layers = img.shape\n",
        "  size = (width,height)\n",
        "  img_array.append(img)\n",
        "\n",
        "out = cv2.VideoWriter('solar_vid_disk.mp4',cv2.VideoWriter_fourcc(*'MP4V'), 6, size)\n",
        "\n",
        "for i in range(len(img_array)):\n",
        "    out.write(img_array[i])\n",
        "out.release()\n"
      ]
    },
    {
      "cell_type": "markdown",
      "metadata": {
        "id": "THcMDyc5lV_O"
      },
      "source": [
        "With the above, we will have created a movie called \"solar_vid_disk.mp4\", which shows the filament evolution and eruption."
      ]
    },
    {
      "cell_type": "markdown",
      "metadata": {
        "id": "D-4zafuT9dzl"
      },
      "source": [
        "## What time did the filament eruption happen?"
      ]
    },
    {
      "cell_type": "code",
      "execution_count": null,
      "metadata": {
        "id": "V-VQUhMz9uWd"
      },
      "outputs": [],
      "source": []
    }
  ],
  "metadata": {
    "colab": {
      "name": "Stage 5.ipynb",
      "provenance": []
    },
    "kernelspec": {
      "display_name": "Python 3 (ipykernel)",
      "language": "python",
      "name": "python3"
    },
    "language_info": {
      "codemirror_mode": {
        "name": "ipython",
        "version": 3
      },
      "file_extension": ".py",
      "mimetype": "text/x-python",
      "name": "python",
      "nbconvert_exporter": "python",
      "pygments_lexer": "ipython3",
      "version": "3.9.12"
    },
    "widgets": {
      "application/vnd.jupyter.widget-state+json": {
        "0bf6061e44134940ac482c9da3d370b2": {
          "model_module": "@jupyter-widgets/controls",
          "model_module_version": "1.5.0",
          "model_name": "ProgressStyleModel",
          "state": {
            "_model_module": "@jupyter-widgets/controls",
            "_model_module_version": "1.5.0",
            "_model_name": "ProgressStyleModel",
            "_view_count": null,
            "_view_module": "@jupyter-widgets/base",
            "_view_module_version": "1.2.0",
            "_view_name": "StyleView",
            "bar_color": null,
            "description_width": ""
          }
        },
        "0c12b0334e5c44d0afa9f70c81e0b1f7": {
          "model_module": "@jupyter-widgets/base",
          "model_module_version": "1.2.0",
          "model_name": "LayoutModel",
          "state": {
            "_model_module": "@jupyter-widgets/base",
            "_model_module_version": "1.2.0",
            "_model_name": "LayoutModel",
            "_view_count": null,
            "_view_module": "@jupyter-widgets/base",
            "_view_module_version": "1.2.0",
            "_view_name": "LayoutView",
            "align_content": null,
            "align_items": null,
            "align_self": null,
            "border": null,
            "bottom": null,
            "display": null,
            "flex": null,
            "flex_flow": null,
            "grid_area": null,
            "grid_auto_columns": null,
            "grid_auto_flow": null,
            "grid_auto_rows": null,
            "grid_column": null,
            "grid_gap": null,
            "grid_row": null,
            "grid_template_areas": null,
            "grid_template_columns": null,
            "grid_template_rows": null,
            "height": null,
            "justify_content": null,
            "justify_items": null,
            "left": null,
            "margin": null,
            "max_height": null,
            "max_width": null,
            "min_height": null,
            "min_width": null,
            "object_fit": null,
            "object_position": null,
            "order": null,
            "overflow": null,
            "overflow_x": null,
            "overflow_y": null,
            "padding": null,
            "right": null,
            "top": null,
            "visibility": null,
            "width": null
          }
        },
        "2d49dcafeaa74696a1ec0801148c5ac4": {
          "model_module": "@jupyter-widgets/controls",
          "model_module_version": "1.5.0",
          "model_name": "HBoxModel",
          "state": {
            "_dom_classes": [],
            "_model_module": "@jupyter-widgets/controls",
            "_model_module_version": "1.5.0",
            "_model_name": "HBoxModel",
            "_view_count": null,
            "_view_module": "@jupyter-widgets/controls",
            "_view_module_version": "1.5.0",
            "_view_name": "HBoxView",
            "box_style": "",
            "children": [
              "IPY_MODEL_8f9063d9c89243d8809cc793076584ab",
              "IPY_MODEL_486e4b88ffcd4e10b2ce0b62ff9ef1cf",
              "IPY_MODEL_9daf2d0fe55143b98b5d42e5312438e0"
            ],
            "layout": "IPY_MODEL_4775ae1731984ae0a105a438dbc62555"
          }
        },
        "4775ae1731984ae0a105a438dbc62555": {
          "model_module": "@jupyter-widgets/base",
          "model_module_version": "1.2.0",
          "model_name": "LayoutModel",
          "state": {
            "_model_module": "@jupyter-widgets/base",
            "_model_module_version": "1.2.0",
            "_model_name": "LayoutModel",
            "_view_count": null,
            "_view_module": "@jupyter-widgets/base",
            "_view_module_version": "1.2.0",
            "_view_name": "LayoutView",
            "align_content": null,
            "align_items": null,
            "align_self": null,
            "border": null,
            "bottom": null,
            "display": null,
            "flex": null,
            "flex_flow": null,
            "grid_area": null,
            "grid_auto_columns": null,
            "grid_auto_flow": null,
            "grid_auto_rows": null,
            "grid_column": null,
            "grid_gap": null,
            "grid_row": null,
            "grid_template_areas": null,
            "grid_template_columns": null,
            "grid_template_rows": null,
            "height": null,
            "justify_content": null,
            "justify_items": null,
            "left": null,
            "margin": null,
            "max_height": null,
            "max_width": null,
            "min_height": null,
            "min_width": null,
            "object_fit": null,
            "object_position": null,
            "order": null,
            "overflow": null,
            "overflow_x": null,
            "overflow_y": null,
            "padding": null,
            "right": null,
            "top": null,
            "visibility": null,
            "width": null
          }
        },
        "486e4b88ffcd4e10b2ce0b62ff9ef1cf": {
          "model_module": "@jupyter-widgets/controls",
          "model_module_version": "1.5.0",
          "model_name": "FloatProgressModel",
          "state": {
            "_dom_classes": [],
            "_model_module": "@jupyter-widgets/controls",
            "_model_module_version": "1.5.0",
            "_model_name": "FloatProgressModel",
            "_view_count": null,
            "_view_module": "@jupyter-widgets/controls",
            "_view_module_version": "1.5.0",
            "_view_name": "ProgressView",
            "bar_style": "danger",
            "description": "",
            "description_tooltip": null,
            "layout": "IPY_MODEL_bd626c4acbef43389475417046344dde",
            "max": 60,
            "min": 0,
            "orientation": "horizontal",
            "style": "IPY_MODEL_0bf6061e44134940ac482c9da3d370b2",
            "value": 55
          }
        },
        "8f9063d9c89243d8809cc793076584ab": {
          "model_module": "@jupyter-widgets/controls",
          "model_module_version": "1.5.0",
          "model_name": "HTMLModel",
          "state": {
            "_dom_classes": [],
            "_model_module": "@jupyter-widgets/controls",
            "_model_module_version": "1.5.0",
            "_model_name": "HTMLModel",
            "_view_count": null,
            "_view_module": "@jupyter-widgets/controls",
            "_view_module_version": "1.5.0",
            "_view_name": "HTMLView",
            "description": "",
            "description_tooltip": null,
            "layout": "IPY_MODEL_0c12b0334e5c44d0afa9f70c81e0b1f7",
            "placeholder": "​",
            "style": "IPY_MODEL_f646137d976c4bb29bafff663d152ef9",
            "value": "Files Downloaded:  92%"
          }
        },
        "9daf2d0fe55143b98b5d42e5312438e0": {
          "model_module": "@jupyter-widgets/controls",
          "model_module_version": "1.5.0",
          "model_name": "HTMLModel",
          "state": {
            "_dom_classes": [],
            "_model_module": "@jupyter-widgets/controls",
            "_model_module_version": "1.5.0",
            "_model_name": "HTMLModel",
            "_view_count": null,
            "_view_module": "@jupyter-widgets/controls",
            "_view_module_version": "1.5.0",
            "_view_name": "HTMLView",
            "description": "",
            "description_tooltip": null,
            "layout": "IPY_MODEL_e51f182d99e84f28965f4f208348bc1f",
            "placeholder": "​",
            "style": "IPY_MODEL_e4cf6e2607ec49479747f079f3a0331d",
            "value": " 55/60 [01:41&lt;00:12,  2.49s/file]"
          }
        },
        "bd626c4acbef43389475417046344dde": {
          "model_module": "@jupyter-widgets/base",
          "model_module_version": "1.2.0",
          "model_name": "LayoutModel",
          "state": {
            "_model_module": "@jupyter-widgets/base",
            "_model_module_version": "1.2.0",
            "_model_name": "LayoutModel",
            "_view_count": null,
            "_view_module": "@jupyter-widgets/base",
            "_view_module_version": "1.2.0",
            "_view_name": "LayoutView",
            "align_content": null,
            "align_items": null,
            "align_self": null,
            "border": null,
            "bottom": null,
            "display": null,
            "flex": null,
            "flex_flow": null,
            "grid_area": null,
            "grid_auto_columns": null,
            "grid_auto_flow": null,
            "grid_auto_rows": null,
            "grid_column": null,
            "grid_gap": null,
            "grid_row": null,
            "grid_template_areas": null,
            "grid_template_columns": null,
            "grid_template_rows": null,
            "height": null,
            "justify_content": null,
            "justify_items": null,
            "left": null,
            "margin": null,
            "max_height": null,
            "max_width": null,
            "min_height": null,
            "min_width": null,
            "object_fit": null,
            "object_position": null,
            "order": null,
            "overflow": null,
            "overflow_x": null,
            "overflow_y": null,
            "padding": null,
            "right": null,
            "top": null,
            "visibility": null,
            "width": null
          }
        },
        "e4cf6e2607ec49479747f079f3a0331d": {
          "model_module": "@jupyter-widgets/controls",
          "model_module_version": "1.5.0",
          "model_name": "DescriptionStyleModel",
          "state": {
            "_model_module": "@jupyter-widgets/controls",
            "_model_module_version": "1.5.0",
            "_model_name": "DescriptionStyleModel",
            "_view_count": null,
            "_view_module": "@jupyter-widgets/base",
            "_view_module_version": "1.2.0",
            "_view_name": "StyleView",
            "description_width": ""
          }
        },
        "e51f182d99e84f28965f4f208348bc1f": {
          "model_module": "@jupyter-widgets/base",
          "model_module_version": "1.2.0",
          "model_name": "LayoutModel",
          "state": {
            "_model_module": "@jupyter-widgets/base",
            "_model_module_version": "1.2.0",
            "_model_name": "LayoutModel",
            "_view_count": null,
            "_view_module": "@jupyter-widgets/base",
            "_view_module_version": "1.2.0",
            "_view_name": "LayoutView",
            "align_content": null,
            "align_items": null,
            "align_self": null,
            "border": null,
            "bottom": null,
            "display": null,
            "flex": null,
            "flex_flow": null,
            "grid_area": null,
            "grid_auto_columns": null,
            "grid_auto_flow": null,
            "grid_auto_rows": null,
            "grid_column": null,
            "grid_gap": null,
            "grid_row": null,
            "grid_template_areas": null,
            "grid_template_columns": null,
            "grid_template_rows": null,
            "height": null,
            "justify_content": null,
            "justify_items": null,
            "left": null,
            "margin": null,
            "max_height": null,
            "max_width": null,
            "min_height": null,
            "min_width": null,
            "object_fit": null,
            "object_position": null,
            "order": null,
            "overflow": null,
            "overflow_x": null,
            "overflow_y": null,
            "padding": null,
            "right": null,
            "top": null,
            "visibility": null,
            "width": null
          }
        },
        "f646137d976c4bb29bafff663d152ef9": {
          "model_module": "@jupyter-widgets/controls",
          "model_module_version": "1.5.0",
          "model_name": "DescriptionStyleModel",
          "state": {
            "_model_module": "@jupyter-widgets/controls",
            "_model_module_version": "1.5.0",
            "_model_name": "DescriptionStyleModel",
            "_view_count": null,
            "_view_module": "@jupyter-widgets/base",
            "_view_module_version": "1.2.0",
            "_view_name": "StyleView",
            "description_width": ""
          }
        }
      }
    }
  },
  "nbformat": 4,
  "nbformat_minor": 0
}
