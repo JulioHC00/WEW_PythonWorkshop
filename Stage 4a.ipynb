{
 "cells": [
  {
   "cell_type": "markdown",
   "metadata": {
    "colab_type": "text",
    "id": "O7Hae280h3z7"
   },
   "source": [
    "# Stage 4a: The Sun (Coronal Imaging)\n",
    "\n",
    "A very important part of our Solar System is the Sun itself. It is for this reason that we, as its residents, have many observatories, both ground and space-based, that take measurements related to it and its influence.\n",
    "\n",
    "\n",
    "\n",
    "1.   Installing the relevant modules\n",
    "2.   Fetching Images from current spacecraft\n",
    "3.   Plotting them\n",
    "4.   Making a video in Python (intro)"
   ]
  },
  {
   "cell_type": "markdown",
   "metadata": {
    "colab_type": "text",
    "id": "Equdb67TlVjz"
   },
   "source": [
    "## Installing the relevant modules\n",
    "\n",
    "The first step here will be to get a module installed inside the jupyter notebook. To do that, just **run the following line the first time you open this notebook:**"
   ]
  },
  {
   "cell_type": "code",
   "execution_count": null,
   "metadata": {
    "colab": {},
    "colab_type": "code",
    "id": "Wxk8mQ5WmOm1"
   },
   "outputs": [],
   "source": [
    "!pip install -q sunpy[all]  # This package is used for all things Sun-related, hosted in github: https://github.com/sunpy/sunpy\n"
   ]
  },
  {
   "cell_type": "markdown",
   "metadata": {
    "colab_type": "text",
    "id": "QOoNUhhWpJbu"
   },
   "source": [
    "**After the installation is finished, click on Runtime and Restart the Runtime with Control + M!**"
   ]
  },
  {
   "cell_type": "code",
   "execution_count": 3,
   "metadata": {
    "colab": {},
    "colab_type": "code",
    "id": "3tf_BVcOopfo"
   },
   "outputs": [
    {
     "name": "stdout",
     "output_type": "stream",
     "text": [
      "Results from 1 Provider:\n",
      "\n",
      "60 Results from the VSOClient:\n",
      "Source: http://vso.stanford.edu/cgi-bin/search\n",
      "\n",
      "       Start Time               End Time        Source Instrument Wavelength [2] ... Extent Length Extent Type   Size                              Info                          \n",
      "                                                                     Angstrom    ...                            Mibyte                                                           \n",
      "----------------------- ----------------------- ------ ---------- -------------- ... ------------- ----------- -------- ---------------------------------------------------------\n",
      "2012-08-31 18:00:11.000 2012-08-31 18:00:12.000    SDO        AIA 171.0 .. 171.0 ...          4096    FULLDISK 64.64844 AIA level 1, 4096x4096 [2.000 exposure] [100.00 percentd]\n",
      "2012-08-31 18:06:11.000 2012-08-31 18:06:12.000    SDO        AIA 171.0 .. 171.0 ...          4096    FULLDISK 64.64844 AIA level 1, 4096x4096 [2.000 exposure] [100.00 percentd]\n",
      "2012-08-31 18:12:11.000 2012-08-31 18:12:12.000    SDO        AIA 171.0 .. 171.0 ...          4096    FULLDISK 64.64844 AIA level 1, 4096x4096 [2.000 exposure] [100.00 percentd]\n",
      "2012-08-31 18:18:11.000 2012-08-31 18:18:12.000    SDO        AIA 171.0 .. 171.0 ...          4096    FULLDISK 64.64844 AIA level 1, 4096x4096 [2.000 exposure] [100.00 percentd]\n",
      "2012-08-31 18:24:11.000 2012-08-31 18:24:12.000    SDO        AIA 171.0 .. 171.0 ...          4096    FULLDISK 64.64844 AIA level 1, 4096x4096 [2.000 exposure] [100.00 percentd]\n",
      "2012-08-31 18:30:11.000 2012-08-31 18:30:12.000    SDO        AIA 171.0 .. 171.0 ...          4096    FULLDISK 64.64844 AIA level 1, 4096x4096 [2.000 exposure] [100.00 percentd]\n",
      "2012-08-31 18:36:11.000 2012-08-31 18:36:12.000    SDO        AIA 171.0 .. 171.0 ...          4096    FULLDISK 64.64844 AIA level 1, 4096x4096 [2.000 exposure] [100.00 percentd]\n",
      "2012-08-31 18:42:11.000 2012-08-31 18:42:12.000    SDO        AIA 171.0 .. 171.0 ...          4096    FULLDISK 64.64844 AIA level 1, 4096x4096 [2.000 exposure] [100.00 percentd]\n",
      "2012-08-31 18:48:11.000 2012-08-31 18:48:12.000    SDO        AIA 171.0 .. 171.0 ...          4096    FULLDISK 64.64844 AIA level 1, 4096x4096 [2.000 exposure] [100.00 percentd]\n",
      "2012-08-31 18:54:11.000 2012-08-31 18:54:12.000    SDO        AIA 171.0 .. 171.0 ...          4096    FULLDISK 64.64844 AIA level 1, 4096x4096 [2.000 exposure] [100.00 percentd]\n",
      "2012-08-31 19:00:11.000 2012-08-31 19:00:12.000    SDO        AIA 171.0 .. 171.0 ...          4096    FULLDISK 64.64844 AIA level 1, 4096x4096 [2.000 exposure] [100.00 percentd]\n",
      "2012-08-31 19:06:11.000 2012-08-31 19:06:12.000    SDO        AIA 171.0 .. 171.0 ...          4096    FULLDISK 64.64844 AIA level 1, 4096x4096 [2.000 exposure] [100.00 percentd]\n",
      "2012-08-31 19:12:11.000 2012-08-31 19:12:12.000    SDO        AIA 171.0 .. 171.0 ...          4096    FULLDISK 64.64844 AIA level 1, 4096x4096 [2.000 exposure] [100.00 percentd]\n",
      "2012-08-31 19:18:11.000 2012-08-31 19:18:12.000    SDO        AIA 171.0 .. 171.0 ...          4096    FULLDISK 64.64844 AIA level 1, 4096x4096 [2.000 exposure] [100.00 percentd]\n",
      "2012-08-31 19:24:11.000 2012-08-31 19:24:12.000    SDO        AIA 171.0 .. 171.0 ...          4096    FULLDISK 64.64844 AIA level 1, 4096x4096 [2.000 exposure] [100.00 percentd]\n",
      "2012-08-31 19:30:11.000 2012-08-31 19:30:12.000    SDO        AIA 171.0 .. 171.0 ...          4096    FULLDISK 64.64844 AIA level 1, 4096x4096 [2.000 exposure] [100.00 percentd]\n",
      "2012-08-31 19:36:11.000 2012-08-31 19:36:12.000    SDO        AIA 171.0 .. 171.0 ...          4096    FULLDISK 64.64844 AIA level 1, 4096x4096 [2.000 exposure] [100.00 percentd]\n",
      "2012-08-31 19:42:11.000 2012-08-31 19:42:12.000    SDO        AIA 171.0 .. 171.0 ...          4096    FULLDISK 64.64844 AIA level 1, 4096x4096 [2.000 exposure] [100.00 percentd]\n",
      "2012-08-31 19:48:11.000 2012-08-31 19:48:12.000    SDO        AIA 171.0 .. 171.0 ...          4096    FULLDISK 64.64844 AIA level 1, 4096x4096 [2.000 exposure] [100.00 percentd]\n",
      "2012-08-31 19:54:11.000 2012-08-31 19:54:12.000    SDO        AIA 171.0 .. 171.0 ...          4096    FULLDISK 64.64844 AIA level 1, 4096x4096 [2.000 exposure] [100.00 percentd]\n",
      "2012-08-31 20:00:11.000 2012-08-31 20:00:12.000    SDO        AIA 171.0 .. 171.0 ...          4096    FULLDISK 64.64844 AIA level 1, 4096x4096 [2.000 exposure] [100.00 percentd]\n",
      "2012-08-31 20:06:11.000 2012-08-31 20:06:12.000    SDO        AIA 171.0 .. 171.0 ...          4096    FULLDISK 64.64844 AIA level 1, 4096x4096 [2.000 exposure] [100.00 percentd]\n",
      "                    ...                     ...    ...        ...            ... ...           ...         ...      ...                                                       ...\n",
      "2012-08-31 21:42:11.000 2012-08-31 21:42:12.000    SDO        AIA 171.0 .. 171.0 ...          4096    FULLDISK 64.64844 AIA level 1, 4096x4096 [2.000 exposure] [100.00 percentd]\n",
      "2012-08-31 21:48:11.000 2012-08-31 21:48:12.000    SDO        AIA 171.0 .. 171.0 ...          4096    FULLDISK 64.64844 AIA level 1, 4096x4096 [2.000 exposure] [100.00 percentd]\n",
      "2012-08-31 21:54:11.000 2012-08-31 21:54:12.000    SDO        AIA 171.0 .. 171.0 ...          4096    FULLDISK 64.64844 AIA level 1, 4096x4096 [2.000 exposure] [100.00 percentd]\n",
      "2012-08-31 22:00:11.000 2012-08-31 22:00:12.000    SDO        AIA 171.0 .. 171.0 ...          4096    FULLDISK 64.64844 AIA level 1, 4096x4096 [2.000 exposure] [100.00 percentd]\n",
      "2012-08-31 22:06:11.000 2012-08-31 22:06:12.000    SDO        AIA 171.0 .. 171.0 ...          4096    FULLDISK 64.64844 AIA level 1, 4096x4096 [2.000 exposure] [100.00 percentd]\n",
      "2012-08-31 22:12:11.000 2012-08-31 22:12:12.000    SDO        AIA 171.0 .. 171.0 ...          4096    FULLDISK 64.64844 AIA level 1, 4096x4096 [2.000 exposure] [100.00 percentd]\n",
      "2012-08-31 22:18:11.000 2012-08-31 22:18:12.000    SDO        AIA 171.0 .. 171.0 ...          4096    FULLDISK 64.64844 AIA level 1, 4096x4096 [2.000 exposure] [100.00 percentd]\n",
      "2012-08-31 22:24:11.000 2012-08-31 22:24:12.000    SDO        AIA 171.0 .. 171.0 ...          4096    FULLDISK 64.64844 AIA level 1, 4096x4096 [2.000 exposure] [100.00 percentd]\n",
      "2012-08-31 22:30:11.000 2012-08-31 22:30:12.000    SDO        AIA 171.0 .. 171.0 ...          4096    FULLDISK 64.64844 AIA level 1, 4096x4096 [2.000 exposure] [100.00 percentd]\n",
      "2012-08-31 22:36:11.000 2012-08-31 22:36:12.000    SDO        AIA 171.0 .. 171.0 ...          4096    FULLDISK 64.64844 AIA level 1, 4096x4096 [2.000 exposure] [100.00 percentd]\n",
      "2012-08-31 22:42:11.000 2012-08-31 22:42:12.000    SDO        AIA 171.0 .. 171.0 ...          4096    FULLDISK 64.64844 AIA level 1, 4096x4096 [2.000 exposure] [100.00 percentd]\n",
      "2012-08-31 22:48:11.000 2012-08-31 22:48:12.000    SDO        AIA 171.0 .. 171.0 ...          4096    FULLDISK 64.64844 AIA level 1, 4096x4096 [2.000 exposure] [100.00 percentd]\n",
      "2012-08-31 22:54:11.000 2012-08-31 22:54:12.000    SDO        AIA 171.0 .. 171.0 ...          4096    FULLDISK 64.64844 AIA level 1, 4096x4096 [2.000 exposure] [100.00 percentd]\n",
      "2012-08-31 23:00:11.000 2012-08-31 23:00:12.000    SDO        AIA 171.0 .. 171.0 ...          4096    FULLDISK 64.64844 AIA level 1, 4096x4096 [2.000 exposure] [100.00 percentd]\n",
      "2012-08-31 23:06:11.000 2012-08-31 23:06:12.000    SDO        AIA 171.0 .. 171.0 ...          4096    FULLDISK 64.64844 AIA level 1, 4096x4096 [2.000 exposure] [100.00 percentd]\n",
      "2012-08-31 23:12:11.000 2012-08-31 23:12:12.000    SDO        AIA 171.0 .. 171.0 ...          4096    FULLDISK 64.64844 AIA level 1, 4096x4096 [2.000 exposure] [100.00 percentd]\n",
      "2012-08-31 23:18:11.000 2012-08-31 23:18:12.000    SDO        AIA 171.0 .. 171.0 ...          4096    FULLDISK 64.64844 AIA level 1, 4096x4096 [2.000 exposure] [100.00 percentd]\n",
      "2012-08-31 23:24:11.000 2012-08-31 23:24:12.000    SDO        AIA 171.0 .. 171.0 ...          4096    FULLDISK 64.64844 AIA level 1, 4096x4096 [2.000 exposure] [100.00 percentd]\n",
      "2012-08-31 23:30:11.000 2012-08-31 23:30:12.000    SDO        AIA 171.0 .. 171.0 ...          4096    FULLDISK 64.64844 AIA level 1, 4096x4096 [2.000 exposure] [100.00 percentd]\n",
      "2012-08-31 23:36:11.000 2012-08-31 23:36:12.000    SDO        AIA 171.0 .. 171.0 ...          4096    FULLDISK 64.64844 AIA level 1, 4096x4096 [2.000 exposure] [100.00 percentd]\n",
      "2012-08-31 23:42:11.000 2012-08-31 23:42:12.000    SDO        AIA 171.0 .. 171.0 ...          4096    FULLDISK 64.64844 AIA level 1, 4096x4096 [2.000 exposure] [100.00 percentd]\n",
      "2012-08-31 23:48:11.000 2012-08-31 23:48:12.000    SDO        AIA 171.0 .. 171.0 ...          4096    FULLDISK 64.64844 AIA level 1, 4096x4096 [2.000 exposure] [100.00 percentd]\n",
      "2012-08-31 23:54:11.000 2012-08-31 23:54:12.000    SDO        AIA 171.0 .. 171.0 ...          4096    FULLDISK 64.64844 AIA level 1, 4096x4096 [2.000 exposure] [100.00 percentd]\n",
      "Length = 60 rows\n",
      "\n",
      "\n"
     ]
    }
   ],
   "source": [
    "from sunpy.net import Fido, attrs as a\n",
    "from astropy import units as u  \n",
    "\n",
    "from datetime import datetime   # Python's small Time module\n",
    "\n",
    "valid_wavelengths = [94, 131, 171, 193, 211, 304, 335, 1600, 1700]  # Note that 16/1700 are white light and not as useful here!\n",
    "\n",
    "\n",
    "Inst = 'aia'  # Here we will use the Atmospheric Imaging Assembly: aia\n",
    "# It is onboard the Solar Dynamics Observatory. \n",
    "#Provides us with images of the Sun almost 24-7!\n",
    "\n",
    "\n",
    "# Now choose the period we would like to get our data from. Please don't do too much at once!\n",
    "\n",
    "start_time = datetime(2012,8,31,18,0)  # Year,Month,Day,Hour,Minute\n",
    "end_time = datetime(2012,8,31,23,59)\n",
    "\n",
    "time_range = a.Time(start_time, end=end_time)\n",
    "\n",
    "lambda_ang = valid_wavelengths[2] * u.Angstrom  # Choose the 171 Angstrom wavelength as an example (Extreme Ultraviolet)\n",
    "\n",
    "\n",
    "samplerate_hours = 6 * u.minute  # We need to give our images a cadence for collection. \n",
    "# Please keep in mind that aia takes an image in all of its wavelengths every 12 seconds.\n",
    "# Choose a cadence depending on what you want to bring out!\n",
    "\n",
    "aia_query = time_range & a.Instrument.aia & a.Wavelength(lambda_ang) & a.Sample(samplerate_hours)\n",
    "\n",
    "fido = Fido.search(aia_query)\n",
    "\n",
    "print(fido)"
   ]
  },
  {
   "cell_type": "markdown",
   "metadata": {
    "colab_type": "text",
    "id": "M_CXsY3fvd1T"
   },
   "source": [
    "Now, we should have a series of results showing above this text-box. These are available records that we may now download:"
   ]
  },
  {
   "cell_type": "code",
   "execution_count": null,
   "metadata": {
    "colab": {},
    "colab_type": "code",
    "id": "qZ8h8Vudvj5i"
   },
   "outputs": [
    {
     "name": "stdout",
     "output_type": "stream",
     "text": [
      "fatal: destination path 'WEW_PythonWorkshop_Database' already exists and is not an empty directory.\n"
     ]
    },
    {
     "data": {
      "application/vnd.jupyter.widget-view+json": {
       "model_id": "72c9c5c8b7634d08b178934771d27e26",
       "version_major": 2,
       "version_minor": 0
      },
      "text/plain": [
       "Files Downloaded:   0%|          | 0/60 [00:00<?, ?file/s]"
      ]
     },
     "metadata": {},
     "output_type": "display_data"
    },
    {
     "data": {
      "application/vnd.jupyter.widget-view+json": {
       "model_id": "aeaa3c80c1cd423590e8d9c53d4083f2",
       "version_major": 2,
       "version_minor": 0
      },
      "text/plain": [
       "aia_lev1_171a_2012_08_31t18_24_11_34z_image_lev1.fits:   0%|          | 0.00/12.5M [00:00<?, ?B/s]"
      ]
     },
     "metadata": {},
     "output_type": "display_data"
    },
    {
     "data": {
      "application/vnd.jupyter.widget-view+json": {
       "model_id": "b78144b3eca94b2795b27b3e7112b5c9",
       "version_major": 2,
       "version_minor": 0
      },
      "text/plain": [
       "aia_lev1_171a_2012_08_31t18_12_11_34z_image_lev1.fits:   0%|          | 0.00/12.5M [00:00<?, ?B/s]"
      ]
     },
     "metadata": {},
     "output_type": "display_data"
    },
    {
     "data": {
      "application/vnd.jupyter.widget-view+json": {
       "model_id": "54c64277b39249ada3ba70bf4dd040c6",
       "version_major": 2,
       "version_minor": 0
      },
      "text/plain": [
       "aia_lev1_171a_2012_08_31t18_06_11_34z_image_lev1.fits:   0%|          | 0.00/12.5M [00:00<?, ?B/s]"
      ]
     },
     "metadata": {},
     "output_type": "display_data"
    },
    {
     "data": {
      "application/vnd.jupyter.widget-view+json": {
       "model_id": "e517b4fb73e4429d96a2b0c15bd16796",
       "version_major": 2,
       "version_minor": 0
      },
      "text/plain": [
       "aia_lev1_171a_2012_08_31t18_00_11_34z_image_lev1.fits:   0%|          | 0.00/12.5M [00:00<?, ?B/s]"
      ]
     },
     "metadata": {},
     "output_type": "display_data"
    },
    {
     "data": {
      "application/vnd.jupyter.widget-view+json": {
       "model_id": "a68bd98c0fbd4da3b0cc60b3208bb290",
       "version_major": 2,
       "version_minor": 0
      },
      "text/plain": [
       "aia_lev1_171a_2012_08_31t18_18_11_34z_image_lev1.fits:   0%|          | 0.00/12.5M [00:00<?, ?B/s]"
      ]
     },
     "metadata": {},
     "output_type": "display_data"
    },
    {
     "data": {
      "application/vnd.jupyter.widget-view+json": {
       "model_id": "a3ca341958034742832503a4906da3d8",
       "version_major": 2,
       "version_minor": 0
      },
      "text/plain": [
       "aia_lev1_171a_2012_08_31t18_36_11_34z_image_lev1.fits:   0%|          | 0.00/12.5M [00:00<?, ?B/s]"
      ]
     },
     "metadata": {},
     "output_type": "display_data"
    },
    {
     "data": {
      "application/vnd.jupyter.widget-view+json": {
       "model_id": "ab72d10935b34c45ab7cafa96fbc7498",
       "version_major": 2,
       "version_minor": 0
      },
      "text/plain": [
       "aia_lev1_171a_2012_08_31t18_30_11_34z_image_lev1.fits:   0%|          | 0.00/12.5M [00:00<?, ?B/s]"
      ]
     },
     "metadata": {},
     "output_type": "display_data"
    },
    {
     "data": {
      "application/vnd.jupyter.widget-view+json": {
       "model_id": "aa4e8413f216470c8b30eab0c6019d89",
       "version_major": 2,
       "version_minor": 0
      },
      "text/plain": [
       "aia_lev1_171a_2012_08_31t18_42_11_34z_image_lev1.fits:   0%|          | 0.00/12.5M [00:00<?, ?B/s]"
      ]
     },
     "metadata": {},
     "output_type": "display_data"
    },
    {
     "data": {
      "application/vnd.jupyter.widget-view+json": {
       "model_id": "6cb80a5adbdd4b3eb5cc793cc1a19281",
       "version_major": 2,
       "version_minor": 0
      },
      "text/plain": [
       "aia_lev1_171a_2012_08_31t18_48_11_34z_image_lev1.fits:   0%|          | 0.00/12.5M [00:00<?, ?B/s]"
      ]
     },
     "metadata": {},
     "output_type": "display_data"
    },
    {
     "data": {
      "application/vnd.jupyter.widget-view+json": {
       "model_id": "54e4396c1d9b4cebb0ab6732bdcf82bd",
       "version_major": 2,
       "version_minor": 0
      },
      "text/plain": [
       "aia_lev1_171a_2012_08_31t18_54_11_34z_image_lev1.fits:   0%|          | 0.00/12.5M [00:00<?, ?B/s]"
      ]
     },
     "metadata": {},
     "output_type": "display_data"
    },
    {
     "data": {
      "application/vnd.jupyter.widget-view+json": {
       "model_id": "be82e71c3e644ae6a69b0244320fec11",
       "version_major": 2,
       "version_minor": 0
      },
      "text/plain": [
       "aia_lev1_171a_2012_08_31t19_00_11_34z_image_lev1.fits:   0%|          | 0.00/12.5M [00:00<?, ?B/s]"
      ]
     },
     "metadata": {},
     "output_type": "display_data"
    },
    {
     "data": {
      "application/vnd.jupyter.widget-view+json": {
       "model_id": "020dc38706414f4880e0858615a78fac",
       "version_major": 2,
       "version_minor": 0
      },
      "text/plain": [
       "aia_lev1_171a_2012_08_31t19_18_11_34z_image_lev1.fits:   0%|          | 0.00/12.5M [00:00<?, ?B/s]"
      ]
     },
     "metadata": {},
     "output_type": "display_data"
    },
    {
     "data": {
      "application/vnd.jupyter.widget-view+json": {
       "model_id": "e56a694cdaa248eda3806eeed74df0a1",
       "version_major": 2,
       "version_minor": 0
      },
      "text/plain": [
       "aia_lev1_171a_2012_08_31t19_12_11_34z_image_lev1.fits:   0%|          | 0.00/12.5M [00:00<?, ?B/s]"
      ]
     },
     "metadata": {},
     "output_type": "display_data"
    },
    {
     "data": {
      "application/vnd.jupyter.widget-view+json": {
       "model_id": "2d65a09e4ad04b83934627441e7bc1dc",
       "version_major": 2,
       "version_minor": 0
      },
      "text/plain": [
       "aia_lev1_171a_2012_08_31t19_06_11_34z_image_lev1.fits:   0%|          | 0.00/12.5M [00:00<?, ?B/s]"
      ]
     },
     "metadata": {},
     "output_type": "display_data"
    },
    {
     "data": {
      "application/vnd.jupyter.widget-view+json": {
       "model_id": "de7530c2468c4430aea3d15524758bb8",
       "version_major": 2,
       "version_minor": 0
      },
      "text/plain": [
       "aia_lev1_171a_2012_08_31t19_24_11_34z_image_lev1.fits:   0%|          | 0.00/12.5M [00:00<?, ?B/s]"
      ]
     },
     "metadata": {},
     "output_type": "display_data"
    }
   ],
   "source": [
    "from os import makedirs as newdir\n",
    "! git clone https://github.com/andyto1234/WEW_PythonWorkshop_Database.git\n",
    "\n",
    "dir_images = 'WEW_PythonWorkshop_Database/My_folder'\n",
    "newdir(dir_images, exist_ok = True)\n",
    "\n",
    "Fido.fetch(fido, path = 'WEW_PythonWorkshop_Database/My_folder/')"
   ]
  },
  {
   "cell_type": "markdown",
   "metadata": {
    "colab_type": "text",
    "id": "wnMDCZrOq3Kq",
    "tags": []
   },
   "source": [
    "## Looking at our newly acquired data\n",
    "\n",
    "Now we need to access this data. For this we may use sunpy:"
   ]
  },
  {
   "cell_type": "code",
   "execution_count": 1,
   "metadata": {
    "colab": {},
    "colab_type": "code",
    "id": "Z5VouhM9xhkt"
   },
   "outputs": [
    {
     "name": "stdin",
     "output_type": "stream",
     "text": [
      "Happy with the results? Press enter again in this box to save all of the figures as png images \n"
     ]
    },
    {
     "ename": "NameError",
     "evalue": "name 'newdir' is not defined",
     "output_type": "error",
     "traceback": [
      "\u001b[0;31m---------------------------------------------------------------------------\u001b[0m",
      "\u001b[0;31mNameError\u001b[0m                                 Traceback (most recent call last)",
      "\u001b[0;32m/var/folders/vb/f_g_fxns7b9f60j19824s81w0000gn/T/ipykernel_59909/2321034681.py\u001b[0m in \u001b[0;36m<module>\u001b[0;34m\u001b[0m\n\u001b[1;32m     15\u001b[0m \u001b[0;34m\u001b[0m\u001b[0m\n\u001b[1;32m     16\u001b[0m \u001b[0mdir_png\u001b[0m \u001b[0;34m=\u001b[0m \u001b[0;34m'My_pics'\u001b[0m\u001b[0;34m\u001b[0m\u001b[0;34m\u001b[0m\u001b[0m\n\u001b[0;32m---> 17\u001b[0;31m \u001b[0mnewdir\u001b[0m\u001b[0;34m(\u001b[0m\u001b[0mdir_png\u001b[0m\u001b[0;34m,\u001b[0m \u001b[0mexist_ok\u001b[0m \u001b[0;34m=\u001b[0m \u001b[0;32mTrue\u001b[0m\u001b[0;34m)\u001b[0m\u001b[0;34m\u001b[0m\u001b[0;34m\u001b[0m\u001b[0m\n\u001b[0m\u001b[1;32m     18\u001b[0m \u001b[0;34m\u001b[0m\u001b[0m\n\u001b[1;32m     19\u001b[0m \u001b[0;32mfor\u001b[0m \u001b[0mindex\u001b[0m\u001b[0;34m,\u001b[0m \u001b[0mpicture\u001b[0m \u001b[0;32min\u001b[0m \u001b[0menumerate\u001b[0m\u001b[0;34m(\u001b[0m\u001b[0mmap_list\u001b[0m\u001b[0;34m)\u001b[0m\u001b[0;34m:\u001b[0m\u001b[0;34m\u001b[0m\u001b[0;34m\u001b[0m\u001b[0m\n",
      "\u001b[0;31mNameError\u001b[0m: name 'newdir' is not defined"
     ]
    }
   ],
   "source": [
    "import matplotlib.pyplot as plt\n",
    "import sunpy.map\n",
    "import glob  # To fetch all files from a directory\n",
    "\n",
    "\n",
    "map_list = sorted(glob.glob('WEW_PythonWorkshop_Database/My_folder/*.fits'))\n",
    "\n",
    "for picture in map_list[0:3]:\n",
    "  \n",
    "  aia_map = sunpy.map.Map(picture)\n",
    "  aia_map.peek()\n",
    "  \n",
    "input('Happy with the results? Press enter again in this box to save all of the figures as png images')\n",
    "\n",
    "\n",
    "dir_png = 'My_pics'\n",
    "newdir(dir_png, exist_ok = True)\n",
    "\n",
    "for index, picture in enumerate(map_list):\n",
    "  aia_map = sunpy.map.Map(picture)\n",
    "  aia_map.plot()\n",
    "  plt.savefig(f'{dir_png}/{index:03d}.png', dpi=150)\n",
    "  plt.clf()\n",
    "  \n",
    "  print(f'Saved figure {index}')\n",
    "  "
   ]
  },
  {
   "cell_type": "markdown",
   "metadata": {
    "colab_type": "text",
    "id": "bRy81ZCryzFB"
   },
   "source": [
    "As we have just seen, it is fairly straightforward to get images from a spacecraft into Python and show them, but what can we do once we have these images?"
   ]
  },
  {
   "cell_type": "markdown",
   "metadata": {
    "colab_type": "text",
    "id": "91-uiXRPD6Ka"
   },
   "source": [
    "## Making videos out of our material\n",
    "\n",
    "A first good use of these images is to study the dynamics of the solar atmosphere, known to affect spacecraft and the Earth's weather! To do that, we need to have a look at all of the images in rapid succession."
   ]
  },
  {
   "cell_type": "code",
   "execution_count": null,
   "metadata": {
    "colab": {},
    "colab_type": "code",
    "id": "GcGkwXdjsZNe"
   },
   "outputs": [],
   "source": [
    "import cv2  # Here, we import OpenCV, a powerful image and video processing tool\n",
    "from os import getcwd\n",
    "\n",
    "\n",
    "img_array = []\n",
    "\n",
    "for filename in sorted(glob.glob(f'{dir_png}/*.png')):\n",
    "  img = cv2.imread(filename)\n",
    "  height, width, layers = img.shape\n",
    "  size = (width,height)\n",
    "  img_array.append(img)\n",
    "\n",
    "out = cv2.VideoWriter('solar_vid_disk.mp4',cv2.VideoWriter_fourcc(*'MP4V'), 6, size)\n",
    " \n",
    "for i in range(len(img_array)):\n",
    "    out.write(img_array[i])\n",
    "out.release()\n"
   ]
  },
  {
   "cell_type": "markdown",
   "metadata": {
    "colab_type": "text",
    "id": "THcMDyc5lV_O"
   },
   "source": [
    "With the above, we will have created a movie called \"solar_vid_disk.mp4\", which holds all of our images together.\n",
    "\n",
    "We can also play the video here."
   ]
  }
 ],
 "metadata": {
  "colab": {
   "collapsed_sections": [],
   "include_colab_link": true,
   "name": "Stage 5.ipynb",
   "provenance": [],
   "version": "0.3.2"
  },
  "kernelspec": {
   "display_name": "Python 3 (ipykernel)",
   "language": "python",
   "name": "python3"
  },
  "language_info": {
   "codemirror_mode": {
    "name": "ipython",
    "version": 3
   },
   "file_extension": ".py",
   "mimetype": "text/x-python",
   "name": "python",
   "nbconvert_exporter": "python",
   "pygments_lexer": "ipython3",
   "version": "3.7.12"
  }
 },
 "nbformat": 4,
 "nbformat_minor": 4
}
