{
 "cells": [
  {
   "cell_type": "markdown",
   "metadata": {
    "colab_type": "text",
    "id": "uFAe5Plpvmz_"
   },
   "source": [
    "# Stage 1 : Basics of Python Programming\n",
    "\n",
    "To click through these examples, use shift+enter. Any of these examples can be edited by pressing enter whilst a box is highlighted.\n",
    "Feel free to mess around with any of them! "
   ]
  },
  {
   "cell_type": "markdown",
   "metadata": {
    "colab_type": "text",
    "id": "8BnRN45wvm0A"
   },
   "source": [
    "## Arithmetic uses"
   ]
  },
  {
   "cell_type": "code",
   "execution_count": null,
   "metadata": {
    "colab": {},
    "colab_type": "code",
    "id": "0vNpLd5Nvm0C"
   },
   "outputs": [],
   "source": [
    "2+2"
   ]
  },
  {
   "cell_type": "code",
   "execution_count": null,
   "metadata": {
    "colab": {},
    "colab_type": "code",
    "id": "8IzIJ8u6vm0G"
   },
   "outputs": [],
   "source": [
    "4/3"
   ]
  },
  {
   "cell_type": "code",
   "execution_count": null,
   "metadata": {
    "colab": {},
    "colab_type": "code",
    "id": "VqjfEVTkvm0I"
   },
   "outputs": [],
   "source": [
    "9*4 #NOTE: * is used for multiplication in python"
   ]
  },
  {
   "cell_type": "code",
   "execution_count": null,
   "metadata": {
    "colab": {},
    "colab_type": "code",
    "id": "IDtHpHKXvm0K"
   },
   "outputs": [],
   "source": [
    "2**3 #NOTE: similarly ** is used for powers in "
   ]
  },
  {
   "cell_type": "markdown",
   "metadata": {
    "colab_type": "text",
    "id": "yTQiWnSkvm0N"
   },
   "source": [
    "Variables are labels used to store data in python. This could be a number, or text, or something else.\n",
    "Setting the value of a variable is known as \"Assignment\""
   ]
  },
  {
   "cell_type": "code",
   "execution_count": null,
   "metadata": {
    "colab": {},
    "colab_type": "code",
    "id": "w_6bPZb7vm0O"
   },
   "outputs": [],
   "source": [
    "a = 2"
   ]
  },
  {
   "cell_type": "code",
   "execution_count": null,
   "metadata": {
    "colab": {},
    "colab_type": "code",
    "id": "QlFAUuY_vm0S"
   },
   "outputs": [],
   "source": [
    "a*2 + 6"
   ]
  },
  {
   "cell_type": "markdown",
   "metadata": {
    "colab_type": "text",
    "id": "cqDUdFTGvm0V"
   },
   "source": [
    "Variables can also hold results of equations"
   ]
  },
  {
   "cell_type": "code",
   "execution_count": null,
   "metadata": {
    "colab": {},
    "colab_type": "code",
    "id": "KL6pGI28vm0W"
   },
   "outputs": [],
   "source": [
    "b = a*3 + 4\n"
   ]
  },
  {
   "cell_type": "code",
   "execution_count": null,
   "metadata": {
    "colab": {},
    "colab_type": "code",
    "id": "BCAxdryxvm0Z"
   },
   "outputs": [],
   "source": [
    "b"
   ]
  },
  {
   "cell_type": "markdown",
   "metadata": {
    "colab_type": "text",
    "id": "gqvc5H20vm0e"
   },
   "source": [
    "## Strings (fancy programming name for words)\n",
    "\n",
    "To use strings, \" or ' must be used around the text you wish to store"
   ]
  },
  {
   "cell_type": "code",
   "execution_count": null,
   "metadata": {
    "colab": {},
    "colab_type": "code",
    "id": "hAva81Pavm0g"
   },
   "outputs": [],
   "source": [
    "fancyword = 'Hello World!'"
   ]
  },
  {
   "cell_type": "code",
   "execution_count": null,
   "metadata": {
    "colab": {},
    "colab_type": "code",
    "id": "B3fBLflUvm0m"
   },
   "outputs": [],
   "source": [
    "fancyword\n"
   ]
  },
  {
   "cell_type": "markdown",
   "metadata": {
    "colab_type": "text",
    "id": "0eLrBEFivm0p"
   },
   "source": [
    "Strings can be joined together simply by using +"
   ]
  },
  {
   "cell_type": "code",
   "execution_count": null,
   "metadata": {
    "colab": {},
    "colab_type": "code",
    "id": "iJNv66M2vm0q"
   },
   "outputs": [],
   "source": [
    "'Hello' + \" \" + 'World'"
   ]
  },
  {
   "cell_type": "markdown",
   "metadata": {
    "colab_type": "text",
    "id": "fSS6FFynvm0s"
   },
   "source": [
    "## Conditionals (IF you want to, or ELSE you don't)\n",
    "\n",
    "Conditionals are used to make certain parts of run if a certain condition is met. Trying change the value of A and seeing what happens"
   ]
  },
  {
   "cell_type": "code",
   "execution_count": null,
   "metadata": {
    "colab": {},
    "colab_type": "code",
    "id": "PcSQVXX5vm0t"
   },
   "outputs": [],
   "source": [
    "A = \"Apple\"\n",
    "if A == \"Apple\":\n",
    "    print(\"It's a Apple\")\n",
    "else:\n",
    "    print(\"It's an Orange\")"
   ]
  },
  {
   "cell_type": "markdown",
   "metadata": {
    "colab_type": "text",
    "id": "JbCePme9vm0v"
   },
   "source": [
    "## Loop de Loops\n",
    "\n",
    "Loops are used to repeat a code while a condition has/hasn't been met. Below are an examples of a \"while\" and \"for\" Loop"
   ]
  },
  {
   "cell_type": "code",
   "execution_count": null,
   "metadata": {
    "colab": {},
    "colab_type": "code",
    "id": "dGFwsakGvm0w",
    "scrolled": true
   },
   "outputs": [],
   "source": [
    "i = 10\n",
    "while i > 0:\n",
    "    i = i - 1 \n",
    "    print(\"What is it?\")\n",
    "    \n",
    "print(\"It's a red and blue striped golfing umbrella\")"
   ]
  },
  {
   "cell_type": "markdown",
   "metadata": {
    "colab_type": "text",
    "id": "iN7Crqd9vm0y"
   },
   "source": [
    "## Lists\n",
    "\n",
    "Unsurprisingly, a list is a list of things."
   ]
  },
  {
   "cell_type": "code",
   "execution_count": null,
   "metadata": {
    "colab": {},
    "colab_type": "code",
    "id": "a9yN41Mvvm00"
   },
   "outputs": [],
   "source": [
    "a = [1,5,1,3,8]"
   ]
  },
  {
   "cell_type": "markdown",
   "metadata": {
    "colab_type": "text",
    "id": "1qs_n5SPvm03"
   },
   "source": [
    "To access a different thing in the list, you index the list like a[0]. Note: python starts counting at 0"
   ]
  },
  {
   "cell_type": "code",
   "execution_count": null,
   "metadata": {
    "colab": {},
    "colab_type": "code",
    "id": "x4jlHUURvm04"
   },
   "outputs": [],
   "source": [
    "a[0]\n"
   ]
  },
  {
   "cell_type": "code",
   "execution_count": null,
   "metadata": {
    "colab": {},
    "colab_type": "code",
    "id": "wn9i8XOdvm06"
   },
   "outputs": [],
   "source": [
    "a[3]"
   ]
  },
  {
   "cell_type": "markdown",
   "metadata": {
    "colab_type": "text",
    "id": "S6evDhmnvm08"
   },
   "source": [
    "## Slicing\n",
    "\n",
    "Slicing is used to select a certain section of data, the best use is a list"
   ]
  },
  {
   "cell_type": "code",
   "execution_count": 1,
   "metadata": {
    "colab": {},
    "colab_type": "code",
    "id": "RZlMFIhuvm0-"
   },
   "outputs": [],
   "source": [
    "ListyList = [1977,1978,1981,1984,2005,2019]"
   ]
  },
  {
   "cell_type": "code",
   "execution_count": 2,
   "metadata": {
    "colab": {},
    "colab_type": "code",
    "id": "vOysKTX6vm1C"
   },
   "outputs": [
    {
     "data": {
      "text/plain": [
       "[1977, 1978]"
      ]
     },
     "execution_count": 2,
     "metadata": {},
     "output_type": "execute_result"
    }
   ],
   "source": [
    "ListyList[:2]"
   ]
  },
  {
   "cell_type": "code",
   "execution_count": 3,
   "metadata": {
    "colab": {},
    "colab_type": "code",
    "id": "w5qfXGE-vm1G"
   },
   "outputs": [
    {
     "data": {
      "text/plain": [
       "[1978, 1981, 1984, 2005, 2019]"
      ]
     },
     "execution_count": 3,
     "metadata": {},
     "output_type": "execute_result"
    }
   ],
   "source": [
    "ListyList[1:]"
   ]
  },
  {
   "cell_type": "code",
   "execution_count": 4,
   "metadata": {
    "colab": {},
    "colab_type": "code",
    "id": "5YNQTl46vm1I"
   },
   "outputs": [
    {
     "data": {
      "text/plain": [
       "[1978, 1981]"
      ]
     },
     "execution_count": 4,
     "metadata": {},
     "output_type": "execute_result"
    }
   ],
   "source": [
    "ListyList[1:3]"
   ]
  },
  {
   "cell_type": "code",
   "execution_count": 5,
   "metadata": {
    "colab": {
     "base_uri": "https://localhost:8080/",
     "height": 34
    },
    "colab_type": "code",
    "id": "SJYxGB7jvuRL",
    "outputId": "06e1df0b-69c6-4fd1-a40d-49662a9228ca"
   },
   "outputs": [
    {
     "name": "stdout",
     "output_type": "stream",
     "text": [
      "Roses\n"
     ]
    }
   ],
   "source": [
    "# Slicing also works on strings, for example\n",
    "CuteString = \"Roses are red\"\n",
    "CuteStringSlice = CuteString[:5]\n",
    "print(CuteStringSlice)"
   ]
  },
  {
   "cell_type": "markdown",
   "metadata": {
    "colab_type": "text",
    "id": "w-sX_u7Ivm1K"
   },
   "source": [
    "## Dictionaries\n",
    "\n",
    "Dictionaries are another type of data structure (like a list). They essentially allow you to link a \"key\" with a \"value\". For example, imagine you wanted to keep track of how many apples (value) some people (key) had."
   ]
  },
  {
   "cell_type": "code",
   "execution_count": 6,
   "metadata": {
    "colab": {},
    "colab_type": "code",
    "id": "8q6A8XIevm1K"
   },
   "outputs": [],
   "source": [
    "AppleDict = {\"Alice\":5,\"Bob\":12,\"Clive\":16}"
   ]
  },
  {
   "cell_type": "markdown",
   "metadata": {
    "colab_type": "text",
    "id": "cbSUFy9evm1N"
   },
   "source": [
    "You can then find out how many apples a person has by using the name as the index. "
   ]
  },
  {
   "cell_type": "code",
   "execution_count": 7,
   "metadata": {
    "colab": {},
    "colab_type": "code",
    "id": "pqZMeft-vm1O"
   },
   "outputs": [
    {
     "data": {
      "text/plain": [
       "12"
      ]
     },
     "execution_count": 7,
     "metadata": {},
     "output_type": "execute_result"
    }
   ],
   "source": [
    "AppleDict[\"Bob\"]"
   ]
  },
  {
   "cell_type": "markdown",
   "metadata": {
    "colab_type": "text",
    "id": "fO1c0KC223ct"
   },
   "source": [
    "## Exercise: 10 Green Bottles"
   ]
  },
  {
   "cell_type": "markdown",
   "metadata": {
    "colab_type": "text",
    "id": "AmEYXDVY3N9K"
   },
   "source": [
    "Create a program in the cell below that prints out every line to the song \"10 Green Bottles.\" This should be a pretty simple program, so to make it a bit harder, here are some rules to follow.\n",
    "\n",
    "\"Ten green bottles sitting on the wall,\n",
    "Ten green bottles sitting on the wall,\n",
    "And if one green bottle should accidentally fall,\n",
    "There'll be nine green bottles sitting on the wall.\n",
    "\"\n",
    "\n",
    "### RULES:\n",
    "\n",
    "If you are going to use a list for all of the numbers, do not manually type them all in. Instead, use a built in function.\n",
    "\n",
    "Remember, when you reach 1 bottle left, the word \"bottles\" becomes singular.\n",
    "\n",
    "Put a blank line between each verse of the song.\n",
    "\n",
    "The final verse ends with \"There'll be no green bottles hanging on the wall.\"\n",
    "\n",
    "### Hint: use str() to cast a number as a string to print *it*"
   ]
  },
  {
   "cell_type": "code",
   "execution_count": null,
   "metadata": {
    "colab": {},
    "colab_type": "code",
    "id": "ywAVYgmF255a"
   },
   "outputs": [],
   "source": []
  }
 ],
 "metadata": {
  "colab": {
   "name": "Stage 1.ipynb",
   "provenance": [],
   "version": "0.3.2"
  },
  "kernelspec": {
   "display_name": "Python 3",
   "language": "python",
   "name": "python3"
  },
  "language_info": {
   "codemirror_mode": {
    "name": "ipython",
    "version": 3
   },
   "file_extension": ".py",
   "mimetype": "text/x-python",
   "name": "python",
   "nbconvert_exporter": "python",
   "pygments_lexer": "ipython3",
   "version": "3.7.3"
  }
 },
 "nbformat": 4,
 "nbformat_minor": 4
}
