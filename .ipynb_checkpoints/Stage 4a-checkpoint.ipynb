{
 "cells": [
  {
   "cell_type": "markdown",
   "metadata": {
    "colab_type": "text",
    "id": "view-in-github"
   },
   "source": [
    "<a href=\"https://colab.research.google.com/github/D-DePablos/WEW/blob/master/Stage%205.ipynb\" target=\"_parent\"><img src=\"https://colab.research.google.com/assets/colab-badge.svg\" alt=\"Open In Colab\"/></a>"
   ]
  },
  {
   "cell_type": "markdown",
   "metadata": {
    "colab_type": "text",
    "id": "O7Hae280h3z7"
   },
   "source": [
    "# Stage 5: The Sun\n",
    "\n",
    "A very important part of our Solar System is the Sun itself. It is for this reason that we, as its residents, have many observatories, both ground and space-based, that take measurements related to it and its influence.\n",
    "\n",
    "\n",
    "\n",
    "1.   Installing the relevant modules\n",
    "2.   Fetching Images from current spacecraft\n",
    "3.   Plotting them\n",
    "4.   Making a video in Python (intro)"
   ]
  },
  {
   "cell_type": "markdown",
   "metadata": {
    "colab_type": "text",
    "id": "Equdb67TlVjz"
   },
   "source": [
    "## Installing the relevant modules\n",
    "\n",
    "The first step here will be to get a module installed inside the jupyter notebook. To do that, just **run the following line the first time you open this notebook:**"
   ]
  },
  {
   "cell_type": "code",
   "execution_count": 1,
   "metadata": {
    "colab": {},
    "colab_type": "code",
    "id": "Wxk8mQ5WmOm1"
   },
   "outputs": [],
   "source": [
    "!pip install -q sunpy[all]  # This package is used for all things Sun-related, hosted in github: https://github.com/sunpy/sunpy\n"
   ]
  },
  {
   "cell_type": "markdown",
   "metadata": {
    "colab_type": "text",
    "id": "QOoNUhhWpJbu"
   },
   "source": [
    "**After the installation is finished, click on Runtime and Restart the Runtime with Control + M!**"
   ]
  },
  {
   "cell_type": "code",
   "execution_count": 3,
   "metadata": {
    "colab": {},
    "colab_type": "code",
    "id": "3tf_BVcOopfo"
   },
   "outputs": [
    {
     "ename": "NameError",
     "evalue": "name 'lambda_ang' is not defined",
     "output_type": "error",
     "traceback": [
      "\u001b[0;31m---------------------------------------------------------------------------\u001b[0m",
      "\u001b[0;31mNameError\u001b[0m                                 Traceback (most recent call last)",
      "\u001b[0;32m<ipython-input-3-ae138c1bd6c4>\u001b[0m in \u001b[0;36m<module>\u001b[0;34m\u001b[0m\n\u001b[1;32m     26\u001b[0m \u001b[0;34m\u001b[0m\u001b[0m\n\u001b[1;32m     27\u001b[0m \u001b[0;34m\u001b[0m\u001b[0m\n\u001b[0;32m---> 28\u001b[0;31m \u001b[0mfido\u001b[0m \u001b[0;34m=\u001b[0m \u001b[0mFido\u001b[0m\u001b[0;34m.\u001b[0m\u001b[0msearch\u001b[0m\u001b[0;34m(\u001b[0m\u001b[0ma\u001b[0m\u001b[0;34m.\u001b[0m\u001b[0mTime\u001b[0m\u001b[0;34m(\u001b[0m\u001b[0mstart\u001b[0m\u001b[0;34m=\u001b[0m\u001b[0mstart_time\u001b[0m\u001b[0;34m,\u001b[0m \u001b[0mend\u001b[0m\u001b[0;34m=\u001b[0m\u001b[0mend_time\u001b[0m\u001b[0;34m)\u001b[0m\u001b[0;34m,\u001b[0m \u001b[0ma\u001b[0m\u001b[0;34m.\u001b[0m\u001b[0mInstrument\u001b[0m\u001b[0;34m(\u001b[0m\u001b[0mInst\u001b[0m\u001b[0;34m)\u001b[0m\u001b[0;34m,\u001b[0m \u001b[0ma\u001b[0m\u001b[0;34m.\u001b[0m\u001b[0mWavelength\u001b[0m\u001b[0;34m(\u001b[0m\u001b[0mlambda_ang\u001b[0m\u001b[0;34m)\u001b[0m\u001b[0;34m,\u001b[0m \u001b[0ma\u001b[0m\u001b[0;34m.\u001b[0m\u001b[0mvso\u001b[0m\u001b[0;34m.\u001b[0m\u001b[0mSample\u001b[0m\u001b[0;34m(\u001b[0m\u001b[0msamplerate_hours\u001b[0m\u001b[0;34m)\u001b[0m\u001b[0;34m)\u001b[0m\u001b[0;34m\u001b[0m\u001b[0;34m\u001b[0m\u001b[0m\n\u001b[0m\u001b[1;32m     29\u001b[0m \u001b[0;34m\u001b[0m\u001b[0m\n\u001b[1;32m     30\u001b[0m \u001b[0mprint\u001b[0m\u001b[0;34m(\u001b[0m\u001b[0mfido\u001b[0m\u001b[0;34m)\u001b[0m\u001b[0;34m\u001b[0m\u001b[0;34m\u001b[0m\u001b[0m\n",
      "\u001b[0;31mNameError\u001b[0m: name 'lambda_ang' is not defined"
     ]
    }
   ],
   "source": [
    "from sunpy.net import Fido, attrs as a\n",
    "from astropy import units as u  \n",
    "\n",
    "from datetime import datetime   # Python's small Time module\n",
    "\n",
    "valid_wavelengths = [171]  # Note that 16/1700 are white light and not as useful here!\n",
    "\n",
    "\n",
    "Inst = 'aia'  # Here we will use the Atmospheric Imaging Assembly: aia\n",
    "# It is onboard the Solar Dynamics Observatory. \n",
    "#Provides us with images of the Sun almost 24-7!\n",
    "\n",
    "\n",
    "# Now choose the period we would like to get our data from. Please don't do too much at once!\n",
    "\n",
    "start_time = datetime(2012,8,31,0,0)  # Year,Month,Day,Hour,Minute\n",
    "end_time = datetime(2012,8,31,23,59)\n",
    "\n",
    "\n",
    "# lambda_ang = valid_wavelengths[3] * u.Angstrom  # Choose the 193 Angstrom wavelength as an example (Extreme Ultraviolet)\n",
    "\n",
    "\n",
    "samplerate_hours = 1 * u.hour  # We need to give our images a cadence for collection. \n",
    "# Please keep in mind that aia takes an image in all of its wavelengths every 10 seconds or so.\n",
    "# Choose a cadence depending on what you want to bring out!\n",
    "\n",
    "  \n",
    "fido = Fido.search(a.Time(start=start_time, end=end_time), a.Instrument(Inst), a.Wavelength(valid_wavelengths), a.vso.Sample(samplerate_hours))\n",
    "\n",
    "print(fido)"
   ]
  },
  {
   "cell_type": "markdown",
   "metadata": {
    "colab_type": "text",
    "id": "M_CXsY3fvd1T"
   },
   "source": [
    "Now, we should have a series of results showing above this text-box. These are available records that we may now download:"
   ]
  },
  {
   "cell_type": "code",
   "execution_count": null,
   "metadata": {
    "colab": {},
    "colab_type": "code",
    "id": "qZ8h8Vudvj5i"
   },
   "outputs": [],
   "source": [
    "from os import makedirs as newdir\n",
    "\n",
    "dir_images = 'My_folder'\n",
    "newdir(dir_images, exist_ok = True)\n",
    "\n",
    "Fido.fetch(fido, path = 'My_folder/')"
   ]
  },
  {
   "cell_type": "raw",
   "metadata": {
    "colab_type": "text",
    "id": "wnMDCZrOq3Kq"
   },
   "source": [
    "##Looking at our newly acquired data\n",
    "\n",
    "Now we need to access this data. For this we may use sunpy:"
   ]
  },
  {
   "cell_type": "markdown",
   "metadata": {
    "colab_type": "text",
    "id": "wnMDCZrOq3Kq"
   },
   "source": [
    "##Looking at our newly acquired data\n",
    "\n",
    "Now we need to access this data. For this we may use sunpy:"
   ]
  },
  {
   "cell_type": "markdown",
   "metadata": {
    "colab_type": "text",
    "id": "wnMDCZrOq3Kq"
   },
   "source": [
    "##Looking at our newly acquired data\n",
    "\n",
    "Now we need to access this data. For this we may use sunpy:"
   ]
  },
  {
   "cell_type": "code",
   "execution_count": 3,
   "metadata": {
    "colab": {},
    "colab_type": "code",
    "id": "Z5VouhM9xhkt"
   },
   "outputs": [
    {
     "data": {
      "text/plain": [
       "<Figure size 640x480 with 1 Axes>"
      ]
     },
     "metadata": {},
     "output_type": "display_data"
    },
    {
     "data": {
      "text/plain": [
       "<Figure size 640x480 with 1 Axes>"
      ]
     },
     "metadata": {},
     "output_type": "display_data"
    },
    {
     "data": {
      "text/plain": [
       "<Figure size 640x480 with 1 Axes>"
      ]
     },
     "metadata": {},
     "output_type": "display_data"
    },
    {
     "name": "stdin",
     "output_type": "stream",
     "text": [
      "Happy with the results? Press enter again in this box to save all of the figures as png images \n"
     ]
    },
    {
     "name": "stdout",
     "output_type": "stream",
     "text": [
      "Saved figure 0\n",
      "Saved figure 1\n",
      "Saved figure 2\n",
      "Saved figure 3\n",
      "Saved figure 4\n",
      "Saved figure 5\n",
      "Saved figure 6\n",
      "Saved figure 7\n",
      "Saved figure 8\n",
      "Saved figure 9\n",
      "Saved figure 10\n",
      "Saved figure 11\n",
      "Saved figure 12\n",
      "Saved figure 13\n",
      "Saved figure 14\n",
      "Saved figure 15\n",
      "Saved figure 16\n",
      "Saved figure 17\n",
      "Saved figure 18\n",
      "Saved figure 19\n",
      "Saved figure 20\n",
      "Saved figure 21\n",
      "Saved figure 22\n",
      "Saved figure 23\n",
      "Saved figure 24\n",
      "Saved figure 25\n",
      "Saved figure 26\n",
      "Saved figure 27\n",
      "Saved figure 28\n",
      "Saved figure 29\n",
      "Saved figure 30\n",
      "Saved figure 31\n",
      "Saved figure 32\n",
      "Saved figure 33\n",
      "Saved figure 34\n",
      "Saved figure 35\n",
      "Saved figure 36\n",
      "Saved figure 37\n",
      "Saved figure 38\n",
      "Saved figure 39\n",
      "Saved figure 40\n",
      "Saved figure 41\n",
      "Saved figure 42\n",
      "Saved figure 43\n",
      "Saved figure 44\n",
      "Saved figure 45\n",
      "Saved figure 46\n",
      "Saved figure 47\n",
      "Saved figure 48\n",
      "Saved figure 49\n",
      "Saved figure 50\n"
     ]
    }
   ],
   "source": [
    "import matplotlib.pyplot as plt\n",
    "import sunpy.map\n",
    "import glob  # To fetch all files from a directory\n",
    "\n",
    "\n",
    "map_list = sorted(glob.glob('My_folder/*.fits'))\n",
    "\n",
    "for picture in map_list[0:3]:\n",
    "  \n",
    "  aia_map = sunpy.map.Map(picture)\n",
    "  aia_map.plot()\n",
    "  plt.show()\n",
    "  \n",
    "input('Happy with the results? Press enter again in this box to save all of the figures as png images')\n",
    "\n",
    "\n",
    "dir_png = 'My_pics'\n",
    "newdir(dir_png, exist_ok = True)\n",
    "\n",
    "for index, picture in enumerate(map_list):\n",
    "  aia_map = sunpy.map.Map(picture)\n",
    "  aia_map.plot()\n",
    "  plt.savefig(f'{dir_png}/{index:03d}.png')\n",
    "  plt.clf()\n",
    "  \n",
    "  print(f'Saved figure {index}')\n",
    "  "
   ]
  },
  {
   "cell_type": "markdown",
   "metadata": {
    "colab_type": "text",
    "id": "bRy81ZCryzFB"
   },
   "source": [
    "As we have just seen, it is fairly straightforward to get images from a spacecraft into Python and show them, but what can we do once we have these images?"
   ]
  },
  {
   "cell_type": "markdown",
   "metadata": {
    "colab_type": "text",
    "id": "91-uiXRPD6Ka"
   },
   "source": [
    "## Making videos out of our material\n",
    "\n",
    "A first good use of these images is to study the dynamics of the solar atmosphere, known to affect spacecraft and the Earth's weather! To do that, we need to have a look at all of the images in rapid succession."
   ]
  },
  {
   "cell_type": "code",
   "execution_count": 4,
   "metadata": {
    "colab": {},
    "colab_type": "code",
    "id": "GcGkwXdjsZNe"
   },
   "outputs": [],
   "source": [
    "import cv2  # Here, we import OpenCV, a powerful image and video processing tool\n",
    "from os import getcwd\n",
    "\n",
    "\n",
    "img_array = []\n",
    "\n",
    "for filename in sorted(glob.glob(f'{dir_png}/*.png')):\n",
    "  img = cv2.imread(filename)\n",
    "  height, width, layers = img.shape\n",
    "  size = (width,height)\n",
    "  img_array.append(img)\n",
    "\n",
    "out = cv2.VideoWriter('solar_vid.avi',cv2.VideoWriter_fourcc(*'DIVX'), 15, size)\n",
    " \n",
    "for i in range(len(img_array)):\n",
    "    out.write(img_array[i])\n",
    "out.release()\n"
   ]
  },
  {
   "cell_type": "markdown",
   "metadata": {
    "colab_type": "text",
    "id": "THcMDyc5lV_O"
   },
   "source": [
    "With the above, we will have created a movie called \"solar_vid.avi\", which holds all of our images together."
   ]
  },
  {
   "cell_type": "markdown",
   "metadata": {
    "colab_type": "text",
    "id": "ixXIR_yeldkP"
   },
   "source": [
    "## Learning more\n",
    "\n",
    "To learn more about Python in Solar Physics, feel free to check the following link:\n",
    "\n",
    "https://github.com/D-DePablos/Python_Taster\n",
    "\n",
    "Where the installation of Python in your own computer is described (through Anaconda), and some basic functions are at use.\n",
    "\n",
    "\n",
    "\n"
   ]
  }
 ],
 "metadata": {
  "colab": {
   "collapsed_sections": [],
   "include_colab_link": true,
   "name": "Stage 5.ipynb",
   "provenance": [],
   "version": "0.3.2"
  },
  "kernelspec": {
   "display_name": "Python 3",
   "language": "python",
   "name": "python3"
  },
  "language_info": {
   "codemirror_mode": {
    "name": "ipython",
    "version": 3
   },
   "file_extension": ".py",
   "mimetype": "text/x-python",
   "name": "python",
   "nbconvert_exporter": "python",
   "pygments_lexer": "ipython3",
   "version": "3.7.3"
  }
 },
 "nbformat": 4,
 "nbformat_minor": 4
}
